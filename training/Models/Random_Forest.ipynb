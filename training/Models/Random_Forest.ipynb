{
 "cells": [
  {
   "cell_type": "markdown",
   "metadata": {},
   "source": [
    "# Random Forest\n",
    "\n",
    "Random Forest is a great classifier to use in this particular instance. It is powerful and widely implemented and with default settings performs well due to the ability to have many trees in the forest. Having many trees in the forest prevents overfitting since some trees will have the same data."
   ]
  },
  {
   "cell_type": "code",
   "execution_count": 1,
   "metadata": {},
   "outputs": [],
   "source": [
    "# Import Data\n",
    "# MUTATE DATAFRAMES ACCORDING TO THE EXPLORATORY DATA ANALYSIS CODE\n",
    "\n",
    "#For data Manipulation\n",
    "import numpy as np\n",
    "import pandas as pd\n",
    "#In order to show all columns available\n",
    "pd.set_option('display.max_columns', 200)\n",
    "\n",
    "#Sklearn imports\n",
    "from sklearn.preprocessing import LabelEncoder, Imputer\n",
    "\n",
    "#Graphing libs\n",
    "import matplotlib.pyplot as plt\n",
    "import seaborn as sns\n",
    "\n",
    "apptrain = pd.read_csv('../Dataset/application_train.csv')\n",
    "apptest = pd.read_csv('../Dataset/application_test.csv')\n",
    "\n",
    "# Code that modifies dataframes\n",
    "apptrain['DAYS_EMPLOYED'].replace({365243: np.nan}, inplace = True)\n",
    "apptest['DAYS_EMPLOYED'].replace({365243: np.nan}, inplace = True)\n",
    "apptrain['DAYS_BIRTH'] = abs(apptrain['DAYS_BIRTH'])\n",
    "apptest['DAYS_BIRTH'] = abs(apptrain['DAYS_BIRTH'])"
   ]
  },
  {
   "cell_type": "markdown",
   "metadata": {},
   "source": [
    "# Preparing the base data"
   ]
  },
  {
   "cell_type": "code",
   "execution_count": 2,
   "metadata": {},
   "outputs": [
    {
     "name": "stdout",
     "output_type": "stream",
     "text": [
      "Training features shape: (307511, 243)\n",
      "Training features shape: (48744, 239)\n",
      "3 columns were label encoded\n"
     ]
    }
   ],
   "source": [
    "# One-hot encoding and dataframe alignment\n",
    "le = LabelEncoder()\n",
    "le_count = 0\n",
    "\n",
    "# Iterate through columns\n",
    "for col in apptrain:\n",
    "    if apptrain[col].dtype == \"object\":\n",
    "        if len(list(apptrain[col].unique())) <= 2:\n",
    "            #train on the training data\n",
    "            le.fit(apptrain[col])\n",
    "            #transform both training and testing data\n",
    "            apptrain[col] = le.transform(apptrain[col])\n",
    "            apptest[col] = le.transform(apptest[col])\n",
    "            \n",
    "            le_count += 1\n",
    "            \n",
    "\n",
    "            \n",
    "#One-Hot encoding\n",
    "apptrain = pd.get_dummies(apptrain)\n",
    "apptest = pd.get_dummies(apptest)\n",
    "\n",
    "\n",
    "\n",
    "print('Training features shape: {}'.format(apptrain.shape))\n",
    "print('Training features shape: {}'.format(apptest.shape))\n",
    "print('{} columns were label encoded'.format(le_count))"
   ]
  },
  {
   "cell_type": "code",
   "execution_count": 3,
   "metadata": {},
   "outputs": [
    {
     "name": "stdout",
     "output_type": "stream",
     "text": [
      "Training Features shape:  (307511, 240)\n",
      "Testing features shape:  (48744, 239)\n",
      "We're back on track, remember the training dataset will have one column more since it DOES have the targets\n"
     ]
    }
   ],
   "source": [
    "# Take the labels out of the training dataset as an inner merge will erase them since the test dataset does not have the targets\n",
    "train_labels = apptrain['TARGET']\n",
    "\n",
    "\n",
    "#aligning the training and testing data, keep only columns present in both df's\n",
    "apptrain, apptest = apptrain.align(apptest, join = 'inner', axis = 1)\n",
    "apptrain['TARGET'] = train_labels\n",
    "\n",
    "print('Training Features shape: ', apptrain.shape)\n",
    "print('Testing features shape: ', apptest.shape)\n",
    "print(\"We're back on track, remember the training dataset will have one column more since it DOES have the targets\")"
   ]
  },
  {
   "cell_type": "code",
   "execution_count": 4,
   "metadata": {},
   "outputs": [
    {
     "name": "stdout",
     "output_type": "stream",
     "text": [
      "training data shape (307511, 239)\n",
      "testing data shape (48744, 239)\n"
     ]
    }
   ],
   "source": [
    "# Scaling not very much required for Random Forest models\n",
    "# Creating base df's for machine learning model\n",
    "training_data = apptrain.drop(columns = ['TARGET'])\n",
    "testing_data = apptest.copy()\n",
    "\n",
    "# In the dataframes we still have missing values, WE USE IMPUTATION HERE\n",
    "imputer = Imputer(strategy = 'median')\n",
    "imputer.fit(training_data)\n",
    "imputer.fit(testing_data)\n",
    "training_data = imputer.transform(training_data)\n",
    "testing_data = imputer.transform(testing_data)\n",
    "\n",
    "print('training data shape', training_data.shape)\n",
    "print('testing data shape', testing_data.shape)"
   ]
  },
  {
   "cell_type": "markdown",
   "metadata": {},
   "source": [
    "# Random Forest Classifier (BASE) model"
   ]
  },
  {
   "cell_type": "code",
   "execution_count": 5,
   "metadata": {},
   "outputs": [],
   "source": [
    "from sklearn.ensemble import RandomForestClassifier\n",
    "\n",
    "# Declare the model, tune parameters, fit data\n",
    "Random_Forest = RandomForestClassifier(n_estimators = 1000, verbose = 1, n_jobs = -1, max_features = 'auto')\n",
    "# Random_Forest.fit(training_data, train_labels)"
   ]
  },
  {
   "cell_type": "code",
   "execution_count": 6,
   "metadata": {},
   "outputs": [],
   "source": [
    "#Let's make a function that'll format and save our predictions for submissions to the Kaggle competition\n",
    "def format_and_submit(predictions, desired_file_name):\n",
    "    submit = apptest[['SK_ID_CURR']]\n",
    "    submit['TARGET'] = predictions\n",
    "    submit.to_csv('../Model_Predictions/{}.csv'.format(desired_file_name), index = False)"
   ]
  },
  {
   "cell_type": "code",
   "execution_count": 7,
   "metadata": {},
   "outputs": [],
   "source": [
    "# predictions = Random_Forest.predict_proba(testing_data)[:, 1]\n",
    "# format_and_submit(predictions, 'Random_Forest_1000Trees_BASE')"
   ]
  },
  {
   "cell_type": "markdown",
   "metadata": {},
   "source": [
    "#### Score\n",
    "When submitted to kaggle the base Random Forest scored .711, which matched our Random Forest with 500 trees and domain features"
   ]
  },
  {
   "cell_type": "markdown",
   "metadata": {},
   "source": [
    "\n",
    "\n",
    "\n",
    "\n",
    "\n",
    "\n"
   ]
  },
  {
   "cell_type": "markdown",
   "metadata": {},
   "source": [
    "# Random Forest Classifier Domain Features Model Prep"
   ]
  },
  {
   "cell_type": "code",
   "execution_count": 8,
   "metadata": {},
   "outputs": [],
   "source": [
    "# Take note that DK will be understood as Domain Knowledge\n",
    "# Creating train data copies\n",
    "apptrain_domain = apptrain.copy()\n",
    "apptest_domain = apptest.copy()\n",
    "\n",
    "#Creating variables for train data\n",
    "apptrain_domain['CREDIT_INCOME_PERCENT'] = apptrain_domain['AMT_CREDIT'] * 100 / apptrain_domain['AMT_INCOME_TOTAL']\n",
    "apptrain_domain['ANNUITY_INCOME_PERCENT'] = apptrain_domain['AMT_ANNUITY'] / apptrain_domain['AMT_INCOME_TOTAL']\n",
    "apptrain_domain['CREDIT_TERM'] = apptrain_domain['AMT_ANNUITY'] / apptrain_domain['AMT_CREDIT']\n",
    "apptrain_domain['DAYS_EMPLOYED_PERCENT'] = apptrain_domain['DAYS_EMPLOYED'] / apptrain_domain['DAYS_BIRTH']\n",
    "\n",
    "#Creating variables for test data\n",
    "apptest_domain['CREDIT_INCOME_PERCENT'] = apptest_domain['AMT_CREDIT'] / apptest_domain['AMT_INCOME_TOTAL']\n",
    "apptest_domain['ANNUITY_INCOME_PERCENT'] = apptest_domain['AMT_ANNUITY'] / apptest_domain['AMT_INCOME_TOTAL']\n",
    "apptest_domain['CREDIT_TERM'] = apptest_domain['AMT_ANNUITY'] / apptest_domain['AMT_CREDIT']\n",
    "apptest_domain['DAYS_EMPLOYED_PERCENT'] = apptest_domain['DAYS_EMPLOYED'] / apptest_domain['DAYS_BIRTH']"
   ]
  },
  {
   "cell_type": "markdown",
   "metadata": {},
   "source": [
    "### To add features we must do the following\n",
    "\n",
    "1. Obtain additional features in dataframe with original features (done in the code above)\n",
    "2. Use Imputation to rid the dataframe of NaN values\n",
    "3. Scale if Necessary (not necessary for model)"
   ]
  },
  {
   "cell_type": "code",
   "execution_count": 9,
   "metadata": {},
   "outputs": [
    {
     "name": "stdout",
     "output_type": "stream",
     "text": [
      "(307511, 243)\n",
      "(48744, 243)\n"
     ]
    }
   ],
   "source": [
    "# Resolving imputations done on new dataset\n",
    "\n",
    "# Important to take out target column from the testing set, it is stored in the train_labels variable to be given as a separate parameter\n",
    "dk_training_data = apptrain_domain.drop(columns=['TARGET'])\n",
    "dk_testing_data = apptest_domain\n",
    "\n",
    "# fitting the Imputer\n",
    "imputer.fit(dk_training_data)\n",
    "imputer.fit(dk_testing_data)\n",
    "\n",
    "#transforming the data\n",
    "dk_training_data = imputer.transform(dk_training_data)\n",
    "dk_testing_data = imputer.transform(dk_testing_data)\n",
    "\n",
    "print(dk_training_data.shape)\n",
    "print(dk_testing_data.shape)"
   ]
  },
  {
   "cell_type": "markdown",
   "metadata": {},
   "source": [
    "# Random Forest Classifier with Domain Knowledge features"
   ]
  },
  {
   "cell_type": "code",
   "execution_count": 10,
   "metadata": {},
   "outputs": [],
   "source": [
    "# dk_Random_Forest = RandomForestClassifier(n_estimators = 1000, verbose = 1, n_jobs = -1, max_features = 'auto')\n",
    "# dk_Random_Forest.fit(dk_training_data, train_labels)"
   ]
  },
  {
   "cell_type": "code",
   "execution_count": 11,
   "metadata": {},
   "outputs": [],
   "source": [
    "# dk_predictions = dk_Random_Forest.predict_proba(dk_testing_data)[:, 1]\n",
    "# format_and_submit(dk_predictions, 'Random_Forest_DomainKnowledgeFeatures')"
   ]
  },
  {
   "cell_type": "markdown",
   "metadata": {},
   "source": [
    "# Adding Polynomial features"
   ]
  },
  {
   "cell_type": "code",
   "execution_count": 12,
   "metadata": {},
   "outputs": [
    {
     "name": "stdout",
     "output_type": "stream",
     "text": [
      "poly_features shape: (307511, 4)\n",
      "poly_features_test shape: (48744, 4)\n"
     ]
    }
   ],
   "source": [
    "# Creating polynomial features starting from the dataframe we already created domain knowledge features for\n",
    "poly_features = apptrain_domain[['EXT_SOURCE_1', 'EXT_SOURCE_2', 'EXT_SOURCE_3', 'DAYS_BIRTH', 'TARGET']]\n",
    "poly_features_test = apptest_domain[['EXT_SOURCE_1', 'EXT_SOURCE_2', 'EXT_SOURCE_3', 'DAYS_BIRTH']]\n",
    "\n",
    "# Removing target column so fits are the same\n",
    "poly_target = poly_features['TARGET']\n",
    "poly_features = poly_features.drop(columns = ['TARGET'])\n",
    "\n",
    "# Imputing values\n",
    "poly_features = imputer.fit_transform(poly_features)\n",
    "poly_features_test = imputer.transform(poly_features_test)\n",
    "\n",
    "print('poly_features shape: {}'.format(poly_features.shape))\n",
    "print('poly_features_test shape: {}'.format(poly_features_test.shape))"
   ]
  },
  {
   "cell_type": "code",
   "execution_count": 13,
   "metadata": {},
   "outputs": [
    {
     "name": "stdout",
     "output_type": "stream",
     "text": [
      "Polynomial Features Shape:  (307511, 35)\n"
     ]
    }
   ],
   "source": [
    "from sklearn.preprocessing import PolynomialFeatures\n",
    "#Create polynomial object with specific degree\n",
    "poly_transformer = PolynomialFeatures(degree = 3)\n",
    "poly_transformer.fit(poly_features)\n",
    "\n",
    "#transforming features\n",
    "poly_features = poly_transformer.transform(poly_features)\n",
    "poly_features_test = poly_transformer.transform(poly_features_test)\n",
    "print('Polynomial Features Shape: ', poly_features.shape)"
   ]
  },
  {
   "cell_type": "code",
   "execution_count": 14,
   "metadata": {},
   "outputs": [],
   "source": [
    "# Turning polynomial features into dataframe for both training and testing\n",
    "poly_features = pd.DataFrame(poly_features, columns = poly_transformer.get_feature_names(['EXT_SOURCE_1', 'EXT_SOURCE_2', 'EXT_SOURCE_3', 'DAYS_BIRTH']))\n",
    "# Put target back into poly_features\n",
    "poly_features['TARGET'] = poly_target\n",
    "\n",
    "# Testing dataset\n",
    "poly_features_test = pd.DataFrame(poly_features_test, columns = poly_transformer.get_feature_names(['EXT_SOURCE_1', 'EXT_SOURCE_2', 'EXT_SOURCE_3', 'DAYS_BIRTH']))"
   ]
  },
  {
   "cell_type": "code",
   "execution_count": 15,
   "metadata": {},
   "outputs": [
    {
     "name": "stdout",
     "output_type": "stream",
     "text": [
      "polynomial domain knowledge training dataset:  (307511, 278)\n",
      "polynomial domain knowledge testing dataset:  (48744, 278)\n"
     ]
    }
   ],
   "source": [
    "# Creating common column to merge training dataset and polyfeatures dataset\n",
    "poly_features['SK_ID_CURR'] = apptrain_domain['SK_ID_CURR']\n",
    "pdk_training_df = apptrain_domain.merge(poly_features, on = 'SK_ID_CURR', how = 'left')\n",
    "\n",
    "# Doing same for test dataset\n",
    "poly_features_test['SK_ID_CURR'] = apptest_domain['SK_ID_CURR']\n",
    "pdk_testing_df = apptest_domain.merge(poly_features_test, on = 'SK_ID_CURR', how = 'left')\n",
    "\n",
    "# Align that dataframes\n",
    "pdk_training_df, pdk_testing_df = pdk_training_df.align(pdk_testing_df, join = 'inner', axis = 1)\n",
    "\n",
    "print('polynomial domain knowledge training dataset: ', pdk_training_df.shape)\n",
    "print('polynomial domain knowledge testing dataset: ', pdk_testing_df.shape)\n",
    "pdk_train_labels = poly_features['TARGET']"
   ]
  },
  {
   "cell_type": "markdown",
   "metadata": {},
   "source": [
    "## Random Forest Classifier with Polynomial Features AND Domain Knowledge Features\n",
    "\n",
    "Next steps are to imputate, and run the model with the new features"
   ]
  },
  {
   "cell_type": "code",
   "execution_count": 16,
   "metadata": {},
   "outputs": [],
   "source": [
    "# It's beneficial to use copies of the original dataframe, just in case you mess up you can always toss the copy out\n",
    "poly_training_data = pdk_training_df.copy()\n",
    "poly_testing_data = pdk_testing_df.copy()\n",
    "\n",
    "poly_training_data = imputer.fit_transform(poly_training_data)\n",
    "poly_testing_data = imputer.transform(poly_testing_data)"
   ]
  },
  {
   "cell_type": "code",
   "execution_count": 17,
   "metadata": {},
   "outputs": [],
   "source": [
    "# PDK_Random_Forest = RandomForestClassifier(n_estimators = 1000, verbose = 1, n_jobs = -1, max_features = 'auto')\n",
    "# PDK_Random_Forest.fit(poly_training_data, pdk_train_labels)"
   ]
  },
  {
   "cell_type": "code",
   "execution_count": 18,
   "metadata": {},
   "outputs": [],
   "source": [
    "# PDK_predictions = PDK_Random_Forest.predict_proba(poly_testing_data)[:, 1]\n",
    "# format_and_submit(PDK_predictions, 'Random_Forest_PDK')"
   ]
  },
  {
   "cell_type": "markdown",
   "metadata": {},
   "source": [
    "# Automated Feature Selection\n",
    "Let's take only the features that were useful, We're doing this now because we see a drop in score."
   ]
  },
  {
   "cell_type": "code",
   "execution_count": 19,
   "metadata": {},
   "outputs": [
    {
     "name": "stderr",
     "output_type": "stream",
     "text": [
      "[Parallel(n_jobs=-1)]: Done  34 tasks      | elapsed:   23.1s\n",
      "[Parallel(n_jobs=-1)]: Done 184 tasks      | elapsed:  1.8min\n",
      "[Parallel(n_jobs=-1)]: Done 434 tasks      | elapsed:  4.2min\n",
      "[Parallel(n_jobs=-1)]: Done 784 tasks      | elapsed:  7.6min\n",
      "[Parallel(n_jobs=-1)]: Done 1234 tasks      | elapsed: 11.9min\n",
      "[Parallel(n_jobs=-1)]: Done 1784 tasks      | elapsed: 17.2min\n",
      "[Parallel(n_jobs=-1)]: Done 2434 tasks      | elapsed: 23.4min\n",
      "[Parallel(n_jobs=-1)]: Done 2500 out of 2500 | elapsed: 24.0min finished\n"
     ]
    },
    {
     "data": {
      "text/plain": [
       "RandomForestClassifier(bootstrap=True, class_weight=None, criterion='gini',\n",
       "            max_depth=None, max_features='auto', max_leaf_nodes=None,\n",
       "            min_impurity_decrease=0.0, min_impurity_split=None,\n",
       "            min_samples_leaf=1, min_samples_split=2,\n",
       "            min_weight_fraction_leaf=0.0, n_estimators=2500, n_jobs=-1,\n",
       "            oob_score=False, random_state=None, verbose=1,\n",
       "            warm_start=False)"
      ]
     },
     "execution_count": 19,
     "metadata": {},
     "output_type": "execute_result"
    }
   ],
   "source": [
    "# Polynomial/ Domain Knowledge Automated Feature Selection\n",
    "PDK_AFS_Random_Forest = RandomForestClassifier(n_estimators = 2500, verbose = 1, n_jobs = -1, max_features = 'auto')\n",
    "PDK_AFS_Random_Forest.fit(poly_training_data, pdk_train_labels)"
   ]
  },
  {
   "cell_type": "code",
   "execution_count": 20,
   "metadata": {},
   "outputs": [
    {
     "name": "stdout",
     "output_type": "stream",
     "text": [
      "278\n",
      "('SK_ID_CURR', 0.015382922829246547)\n",
      "('NAME_CONTRACT_TYPE', 0.0009013644875789921)\n",
      "('FLAG_OWN_CAR', 0.00194718169110946)\n",
      "('FLAG_OWN_REALTY', 0.0020195834024265905)\n",
      "('CNT_CHILDREN', 0.0033756056668383188)\n",
      "('AMT_INCOME_TOTAL', 0.011582752258668701)\n",
      "('AMT_CREDIT', 0.012910217585595237)\n",
      "('AMT_ANNUITY', 0.013992205791054556)\n",
      "('AMT_GOODS_PRICE', 0.011221032347318985)\n",
      "('REGION_POPULATION_RELATIVE', 0.012189775227951024)\n",
      "('DAYS_BIRTH_x', 0.01225386266432864)\n",
      "('DAYS_EMPLOYED', 0.014138861642864802)\n",
      "('DAYS_REGISTRATION', 0.015825714414699123)\n",
      "('DAYS_ID_PUBLISH', 0.01582777732660419)\n",
      "('OWN_CAR_AGE', 0.0069241045580709)\n",
      "('FLAG_MOBIL', 1.1762610868102907e-08)\n",
      "('FLAG_EMP_PHONE', 0.0006117624903234478)\n",
      "('FLAG_WORK_PHONE', 0.0019170734622506636)\n",
      "('FLAG_CONT_MOBILE', 0.0001783199469691369)\n",
      "('FLAG_PHONE', 0.0018225771499347989)\n",
      "('FLAG_EMAIL', 0.0009993748579395468)\n",
      "('CNT_FAM_MEMBERS', 0.00475185055194397)\n",
      "('REGION_RATING_CLIENT', 0.002574281498140615)\n",
      "('REGION_RATING_CLIENT_W_CITY', 0.0025975395041523365)\n",
      "('HOUR_APPR_PROCESS_START', 0.010681666995383771)\n",
      "('REG_REGION_NOT_LIVE_REGION', 0.0006200858388334672)\n",
      "('REG_REGION_NOT_WORK_REGION', 0.0009734758776530043)\n",
      "('LIVE_REGION_NOT_WORK_REGION', 0.0008853187334613647)\n",
      "('REG_CITY_NOT_LIVE_CITY', 0.0018593294096003114)\n",
      "('REG_CITY_NOT_WORK_CITY', 0.0018953191526055182)\n",
      "('LIVE_CITY_NOT_WORK_CITY', 0.0018076251868660857)\n",
      "('EXT_SOURCE_1_x', 0.006277035088499113)\n",
      "('EXT_SOURCE_2_x', 0.01287966777155495)\n",
      "('EXT_SOURCE_3_x', 0.010113971319504514)\n",
      "('APARTMENTS_AVG', 0.00471033939586037)\n",
      "('BASEMENTAREA_AVG', 0.00424017543571873)\n",
      "('YEARS_BEGINEXPLUATATION_AVG', 0.005144247455780115)\n",
      "('YEARS_BUILD_AVG', 0.0037301335026841947)\n",
      "('COMMONAREA_AVG', 0.0036578096984669814)\n",
      "('ELEVATORS_AVG', 0.0014080761566125114)\n",
      "('ENTRANCES_AVG', 0.0031717424678113274)\n",
      "('FLOORSMAX_AVG', 0.002375934521058484)\n",
      "('FLOORSMIN_AVG', 0.00201618275274118)\n",
      "('LANDAREA_AVG', 0.004552027870910608)\n",
      "('LIVINGAPARTMENTS_AVG', 0.0035056259925920733)\n",
      "('LIVINGAREA_AVG', 0.005375047942856882)\n",
      "('NONLIVINGAPARTMENTS_AVG', 0.0015930780369380888)\n",
      "('NONLIVINGAREA_AVG', 0.0037185497088456985)\n",
      "('APARTMENTS_MODE', 0.0045599829042386455)\n",
      "('BASEMENTAREA_MODE', 0.0042385992492220545)\n",
      "('YEARS_BEGINEXPLUATATION_MODE', 0.00516608500739381)\n",
      "('YEARS_BUILD_MODE', 0.003723897724505738)\n",
      "('COMMONAREA_MODE', 0.0036198079963085895)\n",
      "('ELEVATORS_MODE', 0.0012384024413478873)\n",
      "('ENTRANCES_MODE', 0.002908402937388716)\n",
      "('FLOORSMAX_MODE', 0.002079277194069081)\n",
      "('FLOORSMIN_MODE', 0.001844863024789387)\n",
      "('LANDAREA_MODE', 0.004493602753243579)\n",
      "('LIVINGAPARTMENTS_MODE', 0.0035263426736686417)\n",
      "('LIVINGAREA_MODE', 0.00543998296856713)\n",
      "('NONLIVINGAPARTMENTS_MODE', 0.0014456162583093416)\n",
      "('NONLIVINGAREA_MODE', 0.0035235560347512108)\n",
      "('APARTMENTS_MEDI', 0.0046856597091503695)\n",
      "('BASEMENTAREA_MEDI', 0.004239922911514025)\n",
      "('YEARS_BEGINEXPLUATATION_MEDI', 0.0051242060020570395)\n",
      "('YEARS_BUILD_MEDI', 0.0037130630373972693)\n",
      "('COMMONAREA_MEDI', 0.003629932291023588)\n",
      "('ELEVATORS_MEDI', 0.0013013782372466262)\n",
      "('ENTRANCES_MEDI', 0.003019988368947419)\n",
      "('FLOORSMAX_MEDI', 0.002211665080863816)\n",
      "('FLOORSMIN_MEDI', 0.0019247874132056286)\n",
      "('LANDAREA_MEDI', 0.004518779012477279)\n",
      "('LIVINGAPARTMENTS_MEDI', 0.003546791889547918)\n",
      "('LIVINGAREA_MEDI', 0.005347283137909299)\n",
      "('NONLIVINGAPARTMENTS_MEDI', 0.001517824612254764)\n",
      "('NONLIVINGAREA_MEDI', 0.003636437854702775)\n",
      "('TOTALAREA_MODE', 0.0056974960786697676)\n",
      "('OBS_30_CNT_SOCIAL_CIRCLE', 0.006241634567259478)\n",
      "('DEF_30_CNT_SOCIAL_CIRCLE', 0.0030426757603343535)\n",
      "('OBS_60_CNT_SOCIAL_CIRCLE', 0.006195158090853018)\n",
      "('DEF_60_CNT_SOCIAL_CIRCLE', 0.0025660114765583275)\n",
      "('DAYS_LAST_PHONE_CHANGE', 0.01306935308153473)\n",
      "('FLAG_DOCUMENT_2', 6.517507094598846e-05)\n",
      "('FLAG_DOCUMENT_3', 0.00182499758228916)\n",
      "('FLAG_DOCUMENT_4', 1.672010175986631e-07)\n",
      "('FLAG_DOCUMENT_5', 0.0006813151740014262)\n",
      "('FLAG_DOCUMENT_6', 0.0007420726114431448)\n",
      "('FLAG_DOCUMENT_7', 3.3761746049250315e-05)\n",
      "('FLAG_DOCUMENT_8', 0.0009913375786661058)\n",
      "('FLAG_DOCUMENT_9', 0.000272360103322057)\n",
      "('FLAG_DOCUMENT_10', 1.4044423736016363e-08)\n",
      "('FLAG_DOCUMENT_11', 0.00016897624408148112)\n",
      "('FLAG_DOCUMENT_12', 3.6888253560633675e-08)\n",
      "('FLAG_DOCUMENT_13', 8.739459883824646e-05)\n",
      "('FLAG_DOCUMENT_14', 8.865538643377827e-05)\n",
      "('FLAG_DOCUMENT_15', 4.566332207016918e-05)\n",
      "('FLAG_DOCUMENT_16', 0.000285720907640227)\n",
      "('FLAG_DOCUMENT_17', 2.0583961014873575e-05)\n",
      "('FLAG_DOCUMENT_18', 0.00028004830003184727)\n",
      "('FLAG_DOCUMENT_19', 8.508216947846301e-05)\n",
      "('FLAG_DOCUMENT_20', 6.0974863989659225e-05)\n",
      "('FLAG_DOCUMENT_21', 6.346227003668783e-05)\n",
      "('AMT_REQ_CREDIT_BUREAU_HOUR', 0.00040050712329443676)\n",
      "('AMT_REQ_CREDIT_BUREAU_DAY', 0.0005158410476054266)\n",
      "('AMT_REQ_CREDIT_BUREAU_WEEK', 0.0009443375751641098)\n",
      "('AMT_REQ_CREDIT_BUREAU_MON', 0.0023763206675781108)\n",
      "('AMT_REQ_CREDIT_BUREAU_QRT', 0.0027052557933798975)\n",
      "('AMT_REQ_CREDIT_BUREAU_YEAR', 0.00690759847938959)\n",
      "('CODE_GENDER_F', 0.002150726469547441)\n",
      "('CODE_GENDER_M', 0.002143765229987503)\n",
      "('NAME_TYPE_SUITE_Children', 0.000595484152491734)\n",
      "('NAME_TYPE_SUITE_Family', 0.0015200678202783573)\n",
      "('NAME_TYPE_SUITE_Group of people', 0.00014116850660510688)\n",
      "('NAME_TYPE_SUITE_Other_A', 0.00031968424743977124)\n",
      "('NAME_TYPE_SUITE_Other_B', 0.0005538443257288944)\n",
      "('NAME_TYPE_SUITE_Spouse, partner', 0.0009968300158620768)\n",
      "('NAME_TYPE_SUITE_Unaccompanied', 0.0016795650368709918)\n",
      "('NAME_INCOME_TYPE_Businessman', 2.187678296579775e-08)\n",
      "('NAME_INCOME_TYPE_Commercial associate', 0.0015513112866702083)\n",
      "('NAME_INCOME_TYPE_Pensioner', 0.0006020724870873163)\n",
      "('NAME_INCOME_TYPE_State servant', 0.0008502698027419244)\n",
      "('NAME_INCOME_TYPE_Student', 2.862065514383603e-07)\n",
      "('NAME_INCOME_TYPE_Unemployed', 8.369408153563281e-05)\n",
      "('NAME_INCOME_TYPE_Working', 0.001880010539094223)\n",
      "('NAME_EDUCATION_TYPE_Academic degree', 2.004343878720513e-05)\n",
      "('NAME_EDUCATION_TYPE_Higher education', 0.0017092869862988984)\n",
      "('NAME_EDUCATION_TYPE_Incomplete higher', 0.0007353432350905286)\n",
      "('NAME_EDUCATION_TYPE_Lower secondary', 0.0008363036359624237)\n",
      "('NAME_EDUCATION_TYPE_Secondary / secondary special', 0.0018950630655235204)\n",
      "('NAME_FAMILY_STATUS_Civil marriage', 0.0016685218820116279)\n",
      "('NAME_FAMILY_STATUS_Married', 0.002090735065289816)\n",
      "('NAME_FAMILY_STATUS_Separated', 0.0012669137941220291)\n",
      "('NAME_FAMILY_STATUS_Single / not married', 0.0016815299910174098)\n",
      "('NAME_FAMILY_STATUS_Widow', 0.0007652345214512731)\n",
      "('NAME_HOUSING_TYPE_Co-op apartment', 0.0003009450941712868)\n",
      "('NAME_HOUSING_TYPE_House / apartment', 0.0014988577899468203)\n",
      "('NAME_HOUSING_TYPE_Municipal apartment', 0.0009796486159809987)\n",
      "('NAME_HOUSING_TYPE_Office apartment', 0.0004566166447025824)\n",
      "('NAME_HOUSING_TYPE_Rented apartment', 0.0009262152963169625)\n",
      "('NAME_HOUSING_TYPE_With parents', 0.0011818243483632867)\n",
      "('OCCUPATION_TYPE_Accountants', 0.0005615777728894576)\n",
      "('OCCUPATION_TYPE_Cleaning staff', 0.0007655468053763332)\n",
      "('OCCUPATION_TYPE_Cooking staff', 0.0008818532591825546)\n",
      "('OCCUPATION_TYPE_Core staff', 0.001010015272203208)\n",
      "('OCCUPATION_TYPE_Drivers', 0.0014886232110929143)\n",
      "('OCCUPATION_TYPE_HR staff', 0.00014255652113578308)\n",
      "('OCCUPATION_TYPE_High skill tech staff', 0.0007243025184614392)\n",
      "('OCCUPATION_TYPE_IT staff', 0.00013441955956664006)\n",
      "('OCCUPATION_TYPE_Laborers', 0.0020102874930424727)\n",
      "('OCCUPATION_TYPE_Low-skill Laborers', 0.0009110644759230425)\n",
      "('OCCUPATION_TYPE_Managers', 0.0009544948484552892)\n",
      "('OCCUPATION_TYPE_Medicine staff', 0.0006611130023054444)\n",
      "('OCCUPATION_TYPE_Private service staff', 0.00041694737910190176)\n",
      "('OCCUPATION_TYPE_Realty agents', 0.0002607632554533595)\n",
      "('OCCUPATION_TYPE_Sales staff', 0.0015476668802256773)\n",
      "('OCCUPATION_TYPE_Secretaries', 0.0003122400246509612)\n",
      "('OCCUPATION_TYPE_Security staff', 0.0009587601670369471)\n",
      "('OCCUPATION_TYPE_Waiters/barmen staff', 0.0004284012555273151)\n",
      "('WEEKDAY_APPR_PROCESS_START_FRIDAY', 0.0017670025889308001)\n",
      "('WEEKDAY_APPR_PROCESS_START_MONDAY', 0.001655653579535021)\n",
      "('WEEKDAY_APPR_PROCESS_START_SATURDAY', 0.0014563507251470304)\n",
      "('WEEKDAY_APPR_PROCESS_START_SUNDAY', 0.0011157161896124801)\n",
      "('WEEKDAY_APPR_PROCESS_START_THURSDAY', 0.0017532154039091325)\n",
      "('WEEKDAY_APPR_PROCESS_START_TUESDAY', 0.0018423728928394904)\n",
      "('WEEKDAY_APPR_PROCESS_START_WEDNESDAY', 0.0018058053154214868)\n",
      "('ORGANIZATION_TYPE_Advertising', 0.0001822382328233527)\n",
      "('ORGANIZATION_TYPE_Agriculture', 0.0006372928758050274)\n",
      "('ORGANIZATION_TYPE_Bank', 0.00025875892362851085)\n",
      "('ORGANIZATION_TYPE_Business Entity Type 1', 0.0007581206686595538)\n",
      "('ORGANIZATION_TYPE_Business Entity Type 2', 0.0009404794418604279)\n",
      "('ORGANIZATION_TYPE_Business Entity Type 3', 0.0018972009926649968)\n",
      "('ORGANIZATION_TYPE_Cleaning', 0.0001774216165838652)\n",
      "('ORGANIZATION_TYPE_Construction', 0.0011781443138824455)\n",
      "('ORGANIZATION_TYPE_Culture', 0.00013921232500880472)\n",
      "('ORGANIZATION_TYPE_Electricity', 0.000255817329595023)\n",
      "('ORGANIZATION_TYPE_Emergency', 0.00019325954157978434)\n",
      "('ORGANIZATION_TYPE_Government', 0.0008669757826611585)\n",
      "('ORGANIZATION_TYPE_Hotel', 0.00025903960399532513)\n",
      "('ORGANIZATION_TYPE_Housing', 0.000592094310162683)\n",
      "('ORGANIZATION_TYPE_Industry: type 1', 0.00041141693791712787)\n",
      "('ORGANIZATION_TYPE_Industry: type 10', 4.746992674742007e-05)\n",
      "('ORGANIZATION_TYPE_Industry: type 11', 0.0005740968609972314)\n",
      "('ORGANIZATION_TYPE_Industry: type 12', 9.103652194397066e-05)\n",
      "('ORGANIZATION_TYPE_Industry: type 13', 5.008689521712007e-05)\n",
      "('ORGANIZATION_TYPE_Industry: type 2', 0.0001865871347279497)\n",
      "('ORGANIZATION_TYPE_Industry: type 3', 0.0007844122764132375)\n",
      "('ORGANIZATION_TYPE_Industry: type 4', 0.00036519592895348636)\n",
      "('ORGANIZATION_TYPE_Industry: type 5', 0.0001760085962233048)\n",
      "('ORGANIZATION_TYPE_Industry: type 6', 5.56433564909167e-05)\n",
      "('ORGANIZATION_TYPE_Industry: type 7', 0.00039114984370016895)\n",
      "('ORGANIZATION_TYPE_Industry: type 8', 2.0161826644506416e-05)\n",
      "('ORGANIZATION_TYPE_Industry: type 9', 0.00042830798771938534)\n",
      "('ORGANIZATION_TYPE_Insurance', 0.00016620553397612864)\n",
      "('ORGANIZATION_TYPE_Kindergarten', 0.0006742117040456485)\n",
      "('ORGANIZATION_TYPE_Legal Services', 0.00015498841580393905)\n",
      "('ORGANIZATION_TYPE_Medicine', 0.0007679595119798383)\n",
      "('ORGANIZATION_TYPE_Military', 0.0002960085936181408)\n",
      "('ORGANIZATION_TYPE_Mobile', 0.00014980816461517986)\n",
      "('ORGANIZATION_TYPE_Other', 0.0011328722192190496)\n",
      "('ORGANIZATION_TYPE_Police', 0.0002910308897902137)\n",
      "('ORGANIZATION_TYPE_Postal', 0.0005420619485301964)\n",
      "('ORGANIZATION_TYPE_Realtor', 0.00025169998324420625)\n",
      "('ORGANIZATION_TYPE_Religion', 3.772340991507839e-05)\n",
      "('ORGANIZATION_TYPE_Restaurant', 0.000558086391329981)\n",
      "('ORGANIZATION_TYPE_School', 0.0006999237608111237)\n",
      "('ORGANIZATION_TYPE_Security', 0.000607382934520389)\n",
      "('ORGANIZATION_TYPE_Security Ministries', 0.00024495492075630077)\n",
      "('ORGANIZATION_TYPE_Self-employed', 0.00200874732932746)\n",
      "('ORGANIZATION_TYPE_Services', 0.00031854594935838443)\n",
      "('ORGANIZATION_TYPE_Telecom', 0.00025335110708984884)\n",
      "('ORGANIZATION_TYPE_Trade: type 1', 0.00017626367588803523)\n",
      "('ORGANIZATION_TYPE_Trade: type 2', 0.0002274471634353107)\n",
      "('ORGANIZATION_TYPE_Trade: type 3', 0.0006542227652129032)\n",
      "('ORGANIZATION_TYPE_Trade: type 4', 1.7414159624592362e-05)\n",
      "('ORGANIZATION_TYPE_Trade: type 5', 2.276613565642737e-05)\n",
      "('ORGANIZATION_TYPE_Trade: type 6', 0.00014243828649064853)\n",
      "('ORGANIZATION_TYPE_Trade: type 7', 0.0009684454322971556)\n",
      "('ORGANIZATION_TYPE_Transport: type 1', 6.075958949427902e-05)\n",
      "('ORGANIZATION_TYPE_Transport: type 2', 0.0004828097630345525)\n",
      "('ORGANIZATION_TYPE_Transport: type 3', 0.0007045769931608404)\n",
      "('ORGANIZATION_TYPE_Transport: type 4', 0.0008154754795069904)\n",
      "('ORGANIZATION_TYPE_University', 0.00023321073700243727)\n",
      "('ORGANIZATION_TYPE_XNA', 0.0006086655556834997)\n",
      "('FONDKAPREMONT_MODE_not specified', 0.00041195559846021014)\n",
      "('FONDKAPREMONT_MODE_org spec account', 0.0003792041100075045)\n",
      "('FONDKAPREMONT_MODE_reg oper account', 0.0008285910345613971)\n",
      "('FONDKAPREMONT_MODE_reg oper spec account', 0.0005223278247780784)\n",
      "('HOUSETYPE_MODE_block of flats', 0.0011301851299945233)\n",
      "('HOUSETYPE_MODE_specific housing', 0.00036016187390866994)\n",
      "('HOUSETYPE_MODE_terraced house', 0.0001742056555941581)\n",
      "('WALLSMATERIAL_MODE_Block', 0.0005332957145132003)\n",
      "('WALLSMATERIAL_MODE_Mixed', 0.00031967091909824703)\n",
      "('WALLSMATERIAL_MODE_Monolithic', 0.00014092470027659532)\n",
      "('WALLSMATERIAL_MODE_Others', 0.00031124792535575546)\n",
      "('WALLSMATERIAL_MODE_Panel', 0.0008851598777803879)\n",
      "('WALLSMATERIAL_MODE_Stone, brick', 0.0009694447788113851)\n",
      "('WALLSMATERIAL_MODE_Wooden', 0.00034996955812161197)\n",
      "('EMERGENCYSTATE_MODE_No', 0.001190668692810391)\n",
      "('EMERGENCYSTATE_MODE_Yes', 0.00031083047177400745)\n",
      "('CREDIT_INCOME_PERCENT', 0.01448474810492394)\n",
      "('ANNUITY_INCOME_PERCENT', 0.015481167665031492)\n",
      "('CREDIT_TERM', 0.01494866953024267)\n",
      "('DAYS_EMPLOYED_PERCENT', 0.01453900887779674)\n",
      "('1', 0.0)\n",
      "('EXT_SOURCE_1_y', 0.00627379060160361)\n",
      "('EXT_SOURCE_2_y', 0.013008925136440823)\n",
      "('EXT_SOURCE_3_y', 0.010244702565832393)\n",
      "('DAYS_BIRTH_y', 0.012274247331978287)\n",
      "('EXT_SOURCE_1^2', 0.006284158130611684)\n",
      "('EXT_SOURCE_1 EXT_SOURCE_2', 0.014120658191003084)\n",
      "('EXT_SOURCE_1 EXT_SOURCE_3', 0.012457764047682951)\n",
      "('EXT_SOURCE_1 DAYS_BIRTH', 0.012137992093827446)\n",
      "('EXT_SOURCE_2^2', 0.012893067053850947)\n",
      "('EXT_SOURCE_2 EXT_SOURCE_3', 0.016680511667619125)\n",
      "('EXT_SOURCE_2 DAYS_BIRTH', 0.013489995569789411)\n",
      "('EXT_SOURCE_3^2', 0.01009495938294354)\n",
      "('EXT_SOURCE_3 DAYS_BIRTH', 0.013148941587410963)\n",
      "('DAYS_BIRTH^2', 0.012255121457310853)\n",
      "('EXT_SOURCE_1^3', 0.00627966077810001)\n",
      "('EXT_SOURCE_1^2 EXT_SOURCE_2', 0.013321151698029257)\n",
      "('EXT_SOURCE_1^2 EXT_SOURCE_3', 0.011693115705962345)\n",
      "('EXT_SOURCE_1^2 DAYS_BIRTH', 0.012302012288875088)\n",
      "('EXT_SOURCE_1 EXT_SOURCE_2^2', 0.013889318360599518)\n",
      "('EXT_SOURCE_1 EXT_SOURCE_2 EXT_SOURCE_3', 0.018377934308915045)\n",
      "('EXT_SOURCE_1 EXT_SOURCE_2 DAYS_BIRTH', 0.013931306586501008)\n",
      "('EXT_SOURCE_1 EXT_SOURCE_3^2', 0.01287270128495348)\n",
      "('EXT_SOURCE_1 EXT_SOURCE_3 DAYS_BIRTH', 0.013627378888044822)\n",
      "('EXT_SOURCE_1 DAYS_BIRTH^2', 0.012087219300929215)\n",
      "('EXT_SOURCE_2^3', 0.012924165227485443)\n",
      "('EXT_SOURCE_2^2 EXT_SOURCE_3', 0.0154667439837403)\n",
      "('EXT_SOURCE_2^2 DAYS_BIRTH', 0.013480334476659061)\n",
      "('EXT_SOURCE_2 EXT_SOURCE_3^2', 0.016482874386828106)\n",
      "('EXT_SOURCE_2 EXT_SOURCE_3 DAYS_BIRTH', 0.017020788843387414)\n",
      "('EXT_SOURCE_2 DAYS_BIRTH^2', 0.012921404106954784)\n",
      "('EXT_SOURCE_3^3', 0.010276975179514957)\n",
      "('EXT_SOURCE_3^2 DAYS_BIRTH', 0.013659682441635306)\n",
      "('EXT_SOURCE_3 DAYS_BIRTH^2', 0.012793821616428072)\n",
      "('DAYS_BIRTH^3', 0.012294465307135691)\n"
     ]
    }
   ],
   "source": [
    "feature_list = list(pdk_training_df.columns)\n",
    "print(len(feature_list))\n",
    "for feature in zip(feature_list, PDK_AFS_Random_Forest.feature_importances_):\n",
    "    print(feature)"
   ]
  },
  {
   "cell_type": "code",
   "execution_count": 21,
   "metadata": {},
   "outputs": [
    {
     "name": "stderr",
     "output_type": "stream",
     "text": [
      "[Parallel(n_jobs=-1)]: Done  34 tasks      | elapsed:   22.6s\n",
      "[Parallel(n_jobs=-1)]: Done 184 tasks      | elapsed:  1.8min\n",
      "[Parallel(n_jobs=-1)]: Done 434 tasks      | elapsed:  4.2min\n",
      "[Parallel(n_jobs=-1)]: Done 784 tasks      | elapsed:  7.5min\n",
      "[Parallel(n_jobs=-1)]: Done 1234 tasks      | elapsed: 11.9min\n",
      "[Parallel(n_jobs=-1)]: Done 1784 tasks      | elapsed: 17.2min\n",
      "[Parallel(n_jobs=-1)]: Done 2434 tasks      | elapsed: 23.4min\n",
      "[Parallel(n_jobs=-1)]: Done 2500 out of 2500 | elapsed: 24.0min finished\n"
     ]
    },
    {
     "data": {
      "text/plain": [
       "SelectFromModel(estimator=RandomForestClassifier(bootstrap=True, class_weight=None, criterion='gini',\n",
       "            max_depth=None, max_features='auto', max_leaf_nodes=None,\n",
       "            min_impurity_decrease=0.0, min_impurity_split=None,\n",
       "            min_samples_leaf=1, min_samples_split=2,\n",
       "            min_weight_fraction_leaf=0.0, n_estimators=2500, n_jobs=-1,\n",
       "            oob_score=False, random_state=None, verbose=1,\n",
       "            warm_start=False),\n",
       "        norm_order=1, prefit=False, threshold='median')"
      ]
     },
     "execution_count": 21,
     "metadata": {},
     "output_type": "execute_result"
    }
   ],
   "source": [
    "from sklearn.feature_selection import SelectFromModel\n",
    "\n",
    "sfm = SelectFromModel(PDK_AFS_Random_Forest, threshold='median')\n",
    "sfm.fit(poly_training_data, pdk_train_labels)"
   ]
  },
  {
   "cell_type": "code",
   "execution_count": 22,
   "metadata": {},
   "outputs": [
    {
     "name": "stdout",
     "output_type": "stream",
     "text": [
      "SK_ID_CURR\n",
      "FLAG_OWN_CAR\n",
      "FLAG_OWN_REALTY\n",
      "CNT_CHILDREN\n",
      "AMT_INCOME_TOTAL\n",
      "AMT_CREDIT\n",
      "AMT_ANNUITY\n",
      "AMT_GOODS_PRICE\n",
      "REGION_POPULATION_RELATIVE\n",
      "DAYS_BIRTH_x\n",
      "DAYS_EMPLOYED\n",
      "DAYS_REGISTRATION\n",
      "DAYS_ID_PUBLISH\n",
      "OWN_CAR_AGE\n",
      "FLAG_WORK_PHONE\n",
      "FLAG_PHONE\n",
      "CNT_FAM_MEMBERS\n",
      "REGION_RATING_CLIENT\n",
      "REGION_RATING_CLIENT_W_CITY\n",
      "HOUR_APPR_PROCESS_START\n",
      "REG_CITY_NOT_LIVE_CITY\n",
      "REG_CITY_NOT_WORK_CITY\n",
      "LIVE_CITY_NOT_WORK_CITY\n",
      "EXT_SOURCE_1_x\n",
      "EXT_SOURCE_2_x\n",
      "EXT_SOURCE_3_x\n",
      "APARTMENTS_AVG\n",
      "BASEMENTAREA_AVG\n",
      "YEARS_BEGINEXPLUATATION_AVG\n",
      "YEARS_BUILD_AVG\n",
      "COMMONAREA_AVG\n",
      "ELEVATORS_AVG\n",
      "ENTRANCES_AVG\n",
      "FLOORSMAX_AVG\n",
      "FLOORSMIN_AVG\n",
      "LANDAREA_AVG\n",
      "LIVINGAPARTMENTS_AVG\n",
      "LIVINGAREA_AVG\n",
      "NONLIVINGAPARTMENTS_AVG\n",
      "NONLIVINGAREA_AVG\n",
      "APARTMENTS_MODE\n",
      "BASEMENTAREA_MODE\n",
      "YEARS_BEGINEXPLUATATION_MODE\n",
      "YEARS_BUILD_MODE\n",
      "COMMONAREA_MODE\n",
      "ENTRANCES_MODE\n",
      "FLOORSMAX_MODE\n",
      "FLOORSMIN_MODE\n",
      "LANDAREA_MODE\n",
      "LIVINGAPARTMENTS_MODE\n",
      "LIVINGAREA_MODE\n",
      "NONLIVINGAPARTMENTS_MODE\n",
      "NONLIVINGAREA_MODE\n",
      "APARTMENTS_MEDI\n",
      "BASEMENTAREA_MEDI\n",
      "YEARS_BEGINEXPLUATATION_MEDI\n",
      "YEARS_BUILD_MEDI\n",
      "COMMONAREA_MEDI\n",
      "ELEVATORS_MEDI\n",
      "ENTRANCES_MEDI\n",
      "FLOORSMAX_MEDI\n",
      "FLOORSMIN_MEDI\n",
      "LANDAREA_MEDI\n",
      "LIVINGAPARTMENTS_MEDI\n",
      "LIVINGAREA_MEDI\n",
      "NONLIVINGAPARTMENTS_MEDI\n",
      "NONLIVINGAREA_MEDI\n",
      "TOTALAREA_MODE\n",
      "OBS_30_CNT_SOCIAL_CIRCLE\n",
      "DEF_30_CNT_SOCIAL_CIRCLE\n",
      "OBS_60_CNT_SOCIAL_CIRCLE\n",
      "DEF_60_CNT_SOCIAL_CIRCLE\n",
      "DAYS_LAST_PHONE_CHANGE\n",
      "FLAG_DOCUMENT_3\n",
      "AMT_REQ_CREDIT_BUREAU_MON\n",
      "AMT_REQ_CREDIT_BUREAU_QRT\n",
      "AMT_REQ_CREDIT_BUREAU_YEAR\n",
      "CODE_GENDER_F\n",
      "CODE_GENDER_M\n",
      "NAME_TYPE_SUITE_Family\n",
      "NAME_TYPE_SUITE_Unaccompanied\n",
      "NAME_INCOME_TYPE_Commercial associate\n",
      "NAME_INCOME_TYPE_Working\n",
      "NAME_EDUCATION_TYPE_Higher education\n",
      "NAME_EDUCATION_TYPE_Secondary / secondary special\n",
      "NAME_FAMILY_STATUS_Civil marriage\n",
      "NAME_FAMILY_STATUS_Married\n",
      "NAME_FAMILY_STATUS_Separated\n",
      "NAME_FAMILY_STATUS_Single / not married\n",
      "NAME_HOUSING_TYPE_House / apartment\n",
      "OCCUPATION_TYPE_Drivers\n",
      "OCCUPATION_TYPE_Laborers\n",
      "OCCUPATION_TYPE_Sales staff\n",
      "WEEKDAY_APPR_PROCESS_START_FRIDAY\n",
      "WEEKDAY_APPR_PROCESS_START_MONDAY\n",
      "WEEKDAY_APPR_PROCESS_START_SATURDAY\n",
      "WEEKDAY_APPR_PROCESS_START_THURSDAY\n",
      "WEEKDAY_APPR_PROCESS_START_TUESDAY\n",
      "WEEKDAY_APPR_PROCESS_START_WEDNESDAY\n",
      "ORGANIZATION_TYPE_Business Entity Type 3\n",
      "ORGANIZATION_TYPE_Self-employed\n",
      "CREDIT_INCOME_PERCENT\n",
      "ANNUITY_INCOME_PERCENT\n",
      "CREDIT_TERM\n",
      "DAYS_EMPLOYED_PERCENT\n",
      "EXT_SOURCE_1_y\n",
      "EXT_SOURCE_2_y\n",
      "EXT_SOURCE_3_y\n",
      "DAYS_BIRTH_y\n",
      "EXT_SOURCE_1^2\n",
      "EXT_SOURCE_1 EXT_SOURCE_2\n",
      "EXT_SOURCE_1 EXT_SOURCE_3\n",
      "EXT_SOURCE_1 DAYS_BIRTH\n",
      "EXT_SOURCE_2^2\n",
      "EXT_SOURCE_2 EXT_SOURCE_3\n",
      "EXT_SOURCE_2 DAYS_BIRTH\n",
      "EXT_SOURCE_3^2\n",
      "EXT_SOURCE_3 DAYS_BIRTH\n",
      "DAYS_BIRTH^2\n",
      "EXT_SOURCE_1^3\n",
      "EXT_SOURCE_1^2 EXT_SOURCE_2\n",
      "EXT_SOURCE_1^2 EXT_SOURCE_3\n",
      "EXT_SOURCE_1^2 DAYS_BIRTH\n",
      "EXT_SOURCE_1 EXT_SOURCE_2^2\n",
      "EXT_SOURCE_1 EXT_SOURCE_2 EXT_SOURCE_3\n",
      "EXT_SOURCE_1 EXT_SOURCE_2 DAYS_BIRTH\n",
      "EXT_SOURCE_1 EXT_SOURCE_3^2\n",
      "EXT_SOURCE_1 EXT_SOURCE_3 DAYS_BIRTH\n",
      "EXT_SOURCE_1 DAYS_BIRTH^2\n",
      "EXT_SOURCE_2^3\n",
      "EXT_SOURCE_2^2 EXT_SOURCE_3\n",
      "EXT_SOURCE_2^2 DAYS_BIRTH\n",
      "EXT_SOURCE_2 EXT_SOURCE_3^2\n",
      "EXT_SOURCE_2 EXT_SOURCE_3 DAYS_BIRTH\n",
      "EXT_SOURCE_2 DAYS_BIRTH^2\n",
      "EXT_SOURCE_3^3\n",
      "EXT_SOURCE_3^2 DAYS_BIRTH\n",
      "EXT_SOURCE_3 DAYS_BIRTH^2\n",
      "DAYS_BIRTH^3\n"
     ]
    }
   ],
   "source": [
    "# This will print out all the features that were selected as important\n",
    "for feature_list_index in sfm.get_support(indices=True):\n",
    "    print(feature_list[feature_list_index])"
   ]
  },
  {
   "cell_type": "code",
   "execution_count": 23,
   "metadata": {},
   "outputs": [],
   "source": [
    "important_training_data = sfm.transform(poly_training_data)\n",
    "important_test_data = sfm.transform(poly_testing_data)"
   ]
  },
  {
   "cell_type": "code",
   "execution_count": 24,
   "metadata": {},
   "outputs": [
    {
     "name": "stderr",
     "output_type": "stream",
     "text": [
      "[Parallel(n_jobs=-1)]: Done  34 tasks      | elapsed:   23.4s\n",
      "[Parallel(n_jobs=-1)]: Done 184 tasks      | elapsed:  1.9min\n",
      "[Parallel(n_jobs=-1)]: Done 434 tasks      | elapsed:  4.4min\n",
      "[Parallel(n_jobs=-1)]: Done 784 tasks      | elapsed:  7.8min\n",
      "[Parallel(n_jobs=-1)]: Done 1234 tasks      | elapsed: 12.3min\n",
      "[Parallel(n_jobs=-1)]: Done 1784 tasks      | elapsed: 17.9min\n",
      "[Parallel(n_jobs=-1)]: Done 2434 tasks      | elapsed: 24.4min\n",
      "[Parallel(n_jobs=-1)]: Done 2800 out of 2800 | elapsed: 28.0min finished\n"
     ]
    },
    {
     "data": {
      "text/plain": [
       "RandomForestClassifier(bootstrap=True, class_weight=None, criterion='gini',\n",
       "            max_depth=None, max_features='auto', max_leaf_nodes=None,\n",
       "            min_impurity_decrease=0.0, min_impurity_split=None,\n",
       "            min_samples_leaf=1, min_samples_split=2,\n",
       "            min_weight_fraction_leaf=0.0, n_estimators=2800, n_jobs=-1,\n",
       "            oob_score=False, random_state=None, verbose=1,\n",
       "            warm_start=False)"
      ]
     },
     "execution_count": 24,
     "metadata": {},
     "output_type": "execute_result"
    }
   ],
   "source": [
    "important_features_Random_Forest = RandomForestClassifier(n_estimators=2800, n_jobs=-1, max_features='auto', verbose=1)\n",
    "important_features_Random_Forest.fit(important_training_data, pdk_train_labels)"
   ]
  },
  {
   "cell_type": "code",
   "execution_count": 26,
   "metadata": {},
   "outputs": [
    {
     "name": "stderr",
     "output_type": "stream",
     "text": [
      "[Parallel(n_jobs=8)]: Done  34 tasks      | elapsed:    0.1s\n",
      "[Parallel(n_jobs=8)]: Done 184 tasks      | elapsed:    0.7s\n",
      "[Parallel(n_jobs=8)]: Done 434 tasks      | elapsed:    1.9s\n",
      "[Parallel(n_jobs=8)]: Done 784 tasks      | elapsed:    3.4s\n",
      "[Parallel(n_jobs=8)]: Done 1234 tasks      | elapsed:    5.4s\n",
      "[Parallel(n_jobs=8)]: Done 1784 tasks      | elapsed:    7.8s\n",
      "[Parallel(n_jobs=8)]: Done 2434 tasks      | elapsed:   10.7s\n",
      "[Parallel(n_jobs=8)]: Done 2800 out of 2800 | elapsed:   12.3s finished\n",
      "C:\\Users\\rGust\\Anaconda3\\lib\\site-packages\\ipykernel_launcher.py:4: SettingWithCopyWarning: \n",
      "A value is trying to be set on a copy of a slice from a DataFrame.\n",
      "Try using .loc[row_indexer,col_indexer] = value instead\n",
      "\n",
      "See the caveats in the documentation: http://pandas.pydata.org/pandas-docs/stable/indexing.html#indexing-view-versus-copy\n",
      "  after removing the cwd from sys.path.\n"
     ]
    }
   ],
   "source": [
    "important_features_RF_Preds = important_features_Random_Forest.predict_proba(important_test_data)[:, 1]\n",
    "format_and_submit(important_features_RF_Preds, 'RF_Important_features')"
   ]
  },
  {
   "cell_type": "code",
   "execution_count": null,
   "metadata": {},
   "outputs": [],
   "source": []
  }
 ],
 "metadata": {
  "kernelspec": {
   "display_name": "Python 3",
   "language": "python",
   "name": "python3"
  },
  "language_info": {
   "codemirror_mode": {
    "name": "ipython",
    "version": 3
   },
   "file_extension": ".py",
   "mimetype": "text/x-python",
   "name": "python",
   "nbconvert_exporter": "python",
   "pygments_lexer": "ipython3",
   "version": "3.6.4"
  }
 },
 "nbformat": 4,
 "nbformat_minor": 2
}
