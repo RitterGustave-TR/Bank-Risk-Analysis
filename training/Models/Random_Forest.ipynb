{
 "cells": [
  {
   "cell_type": "markdown",
   "metadata": {},
   "source": [
    "# Random Forest\n",
    "\n",
    "Random Forest is a great classifier to use in this particular instance. It is powerful and widely implemented and with default settings performs well due to the ability to have many trees in the forest. Having many trees in the forest prevents overfitting since some trees will have the same data."
   ]
  },
  {
   "cell_type": "code",
   "execution_count": 1,
   "metadata": {},
   "outputs": [],
   "source": [
    "# Import Data\n",
    "# MUTATE DATAFRAMES ACCORDING TO THE EXPLORATORY DATA ANALYSIS CODE\n",
    "\n",
    "#For data Manipulation\n",
    "import numpy as np\n",
    "import pandas as pd\n",
    "#In order to show all columns available\n",
    "pd.set_option('display.max_columns', 200)\n",
    "\n",
    "#Sklearn imports\n",
    "from sklearn.preprocessing import LabelEncoder, Imputer\n",
    "\n",
    "#Graphing libs\n",
    "import matplotlib.pyplot as plt\n",
    "import seaborn as sns\n",
    "\n",
    "apptrain = pd.read_csv('../Dataset/application_train.csv')\n",
    "apptest = pd.read_csv('../Dataset/application_test.csv')\n",
    "\n",
    "# Code that modifies dataframes\n",
    "apptrain['DAYS_EMPLOYED'].replace({365243: np.nan}, inplace = True)\n",
    "apptest['DAYS_EMPLOYED'].replace({365243: np.nan}, inplace = True)\n",
    "apptrain['DAYS_BIRTH'] = abs(apptrain['DAYS_BIRTH'])\n",
    "apptest['DAYS_BIRTH'] = abs(apptrain['DAYS_BIRTH'])"
   ]
  },
  {
   "cell_type": "markdown",
   "metadata": {},
   "source": [
    "# Preparing the base data"
   ]
  },
  {
   "cell_type": "code",
   "execution_count": 2,
   "metadata": {},
   "outputs": [
    {
     "name": "stdout",
     "output_type": "stream",
     "text": [
      "Training features shape: (307511, 243)\n",
      "Training features shape: (48744, 239)\n",
      "3 columns were label encoded\n"
     ]
    }
   ],
   "source": [
    "# One-hot encoding and dataframe alignment\n",
    "le = LabelEncoder()\n",
    "le_count = 0\n",
    "\n",
    "# Iterate through columns\n",
    "for col in apptrain:\n",
    "    if apptrain[col].dtype == \"object\":\n",
    "        if len(list(apptrain[col].unique())) <= 2:\n",
    "            #train on the training data\n",
    "            le.fit(apptrain[col])\n",
    "            #transform both training and testing data\n",
    "            apptrain[col] = le.transform(apptrain[col])\n",
    "            apptest[col] = le.transform(apptest[col])\n",
    "            \n",
    "            le_count += 1\n",
    "            \n",
    "\n",
    "            \n",
    "#One-Hot encoding\n",
    "apptrain = pd.get_dummies(apptrain)\n",
    "apptest = pd.get_dummies(apptest)\n",
    "\n",
    "\n",
    "\n",
    "print('Training features shape: {}'.format(apptrain.shape))\n",
    "print('Training features shape: {}'.format(apptest.shape))\n",
    "print('{} columns were label encoded'.format(le_count))"
   ]
  },
  {
   "cell_type": "code",
   "execution_count": 4,
   "metadata": {},
   "outputs": [
    {
     "name": "stdout",
     "output_type": "stream",
     "text": [
      "Training Features shape:  (307511, 240)\n",
      "Testing features shape:  (48744, 239)\n",
      "We're back on track, remember the training dataset will have one column more since it DOES have the targets\n"
     ]
    }
   ],
   "source": [
    "# Take the labels out of the training dataset as an inner merge will erase them since the test dataset does not have the targets\n",
    "train_labels = apptrain['TARGET']\n",
    "\n",
    "\n",
    "#aligning the training and testing data, keep only columns present in both df's\n",
    "apptrain, apptest = apptrain.align(apptest, join = 'inner', axis = 1)\n",
    "apptrain['TARGET'] = train_labels\n",
    "\n",
    "print('Training Features shape: ', apptrain.shape)\n",
    "print('Testing features shape: ', apptest.shape)\n",
    "print(\"We're back on track, remember the training dataset will have one column more since it DOES have the targets\")"
   ]
  },
  {
   "cell_type": "code",
   "execution_count": 6,
   "metadata": {},
   "outputs": [
    {
     "name": "stdout",
     "output_type": "stream",
     "text": [
      "training data shape (307511, 239)\n",
      "testing data shape (48744, 239)\n"
     ]
    }
   ],
   "source": [
    "# Scaling not very much required for Random Forest models\n",
    "# Creating base df's for machine learning model\n",
    "training_data = apptrain.drop(columns = ['TARGET'])\n",
    "testing_data = apptest.copy()\n",
    "\n",
    "# In the dataframes we still have missing values, WE USE IMPUTATION HERE\n",
    "imputer = Imputer(strategy = 'median')\n",
    "imputer.fit(training_data)\n",
    "imputer.fit(testing_data)\n",
    "training_data = imputer.transform(training_data)\n",
    "testing_data = imputer.transform(testing_data)\n",
    "\n",
    "print('training data shape', training_data.shape)\n",
    "print('testing data shape', testing_data.shape)"
   ]
  },
  {
   "cell_type": "markdown",
   "metadata": {},
   "source": [
    "# Random Forest Classifier (BASE) model"
   ]
  },
  {
   "cell_type": "code",
   "execution_count": 8,
   "metadata": {},
   "outputs": [
    {
     "name": "stderr",
     "output_type": "stream",
     "text": [
      "[Parallel(n_jobs=-1)]: Done  34 tasks      | elapsed:   15.3s\n",
      "[Parallel(n_jobs=-1)]: Done 184 tasks      | elapsed:  1.2min\n",
      "[Parallel(n_jobs=-1)]: Done 434 tasks      | elapsed:  2.8min\n",
      "[Parallel(n_jobs=-1)]: Done 784 tasks      | elapsed:  5.1min\n",
      "[Parallel(n_jobs=-1)]: Done 1000 out of 1000 | elapsed:  6.5min finished\n"
     ]
    },
    {
     "data": {
      "text/plain": [
       "RandomForestClassifier(bootstrap=True, class_weight=None, criterion='gini',\n",
       "            max_depth=None, max_features='auto', max_leaf_nodes=None,\n",
       "            min_impurity_decrease=0.0, min_impurity_split=None,\n",
       "            min_samples_leaf=1, min_samples_split=2,\n",
       "            min_weight_fraction_leaf=0.0, n_estimators=1000, n_jobs=-1,\n",
       "            oob_score=False, random_state=None, verbose=1,\n",
       "            warm_start=False)"
      ]
     },
     "execution_count": 8,
     "metadata": {},
     "output_type": "execute_result"
    }
   ],
   "source": [
    "from sklearn.ensemble import RandomForestClassifier\n",
    "\n",
    "# Declare the model, tune parameters, fit data\n",
    "Random_Forest = RandomForestClassifier(n_estimators = 1000, verbose = 1, n_jobs = -1, max_features = 'auto')\n",
    "Random_Forest.fit(training_data, train_labels)"
   ]
  },
  {
   "cell_type": "code",
   "execution_count": 12,
   "metadata": {},
   "outputs": [],
   "source": [
    "#Let's make a function that'll format and save our predictions for submissions to the Kaggle competition\n",
    "def format_and_submit(predictions, desired_file_name):\n",
    "    submit = apptest[['SK_ID_CURR']]\n",
    "    submit['TARGET'] = predictions\n",
    "    submit.to_csv('../Model_Predictions/{}.csv'.format(desired_file_name), index = False)"
   ]
  },
  {
   "cell_type": "code",
   "execution_count": 13,
   "metadata": {},
   "outputs": [
    {
     "name": "stderr",
     "output_type": "stream",
     "text": [
      "[Parallel(n_jobs=8)]: Done  34 tasks      | elapsed:    0.0s\n",
      "[Parallel(n_jobs=8)]: Done 184 tasks      | elapsed:    0.7s\n",
      "[Parallel(n_jobs=8)]: Done 434 tasks      | elapsed:    1.8s\n",
      "[Parallel(n_jobs=8)]: Done 784 tasks      | elapsed:    3.3s\n",
      "[Parallel(n_jobs=8)]: Done 1000 out of 1000 | elapsed:    4.3s finished\n",
      "C:\\Users\\Ritter\\Anaconda3\\lib\\site-packages\\ipykernel_launcher.py:4: SettingWithCopyWarning: \n",
      "A value is trying to be set on a copy of a slice from a DataFrame.\n",
      "Try using .loc[row_indexer,col_indexer] = value instead\n",
      "\n",
      "See the caveats in the documentation: http://pandas.pydata.org/pandas-docs/stable/indexing.html#indexing-view-versus-copy\n",
      "  after removing the cwd from sys.path.\n"
     ]
    }
   ],
   "source": [
    "predictions = Random_Forest.predict_proba(testing_data)[:, 1]\n",
    "format_and_submit(predictions, 'Random_Forest_1000Trees_BASE')"
   ]
  },
  {
   "cell_type": "markdown",
   "metadata": {},
   "source": [
    "#### Score\n",
    "When submitted to kaggle the base Random Forest scored .711, which matched our Random Forest with 500 trees and domain features"
   ]
  },
  {
   "cell_type": "markdown",
   "metadata": {},
   "source": [
    "\n",
    "\n",
    "\n",
    "\n",
    "\n",
    "\n"
   ]
  },
  {
   "cell_type": "markdown",
   "metadata": {},
   "source": [
    "# Random Forest Classifier Domain Features Model Prep"
   ]
  },
  {
   "cell_type": "code",
   "execution_count": 14,
   "metadata": {},
   "outputs": [],
   "source": [
    "# Take note that DK will be understood as Domain Knowledge\n",
    "# Creating train data copies\n",
    "apptrain_domain = apptrain.copy()\n",
    "apptest_domain = apptest.copy()\n",
    "\n",
    "#Creating variables for train data\n",
    "apptrain_domain['CREDIT_INCOME_PERCENT'] = apptrain_domain['AMT_CREDIT'] * 100 / apptrain_domain['AMT_INCOME_TOTAL']\n",
    "apptrain_domain['ANNUITY_INCOME_PERCENT'] = apptrain_domain['AMT_ANNUITY'] / apptrain_domain['AMT_INCOME_TOTAL']\n",
    "apptrain_domain['CREDIT_TERM'] = apptrain_domain['AMT_ANNUITY'] / apptrain_domain['AMT_CREDIT']\n",
    "apptrain_domain['DAYS_EMPLOYED_PERCENT'] = apptrain_domain['DAYS_EMPLOYED'] / apptrain_domain['DAYS_BIRTH']\n",
    "\n",
    "#Creating variables for test data\n",
    "apptest_domain['CREDIT_INCOME_PERCENT'] = apptest_domain['AMT_CREDIT'] / apptest_domain['AMT_INCOME_TOTAL']\n",
    "apptest_domain['ANNUITY_INCOME_PERCENT'] = apptest_domain['AMT_ANNUITY'] / apptest_domain['AMT_INCOME_TOTAL']\n",
    "apptest_domain['CREDIT_TERM'] = apptest_domain['AMT_ANNUITY'] / apptest_domain['AMT_CREDIT']\n",
    "apptest_domain['DAYS_EMPLOYED_PERCENT'] = apptest_domain['DAYS_EMPLOYED'] / apptest_domain['DAYS_BIRTH']"
   ]
  },
  {
   "cell_type": "markdown",
   "metadata": {},
   "source": [
    "### To add features we must do the following\n",
    "\n",
    "1. Obtain additional features in dataframe with original features (done in the code above)\n",
    "2. Use Imputation to rid the dataframe of NaN values\n",
    "3. Scale if Necessary (not necessary for model)"
   ]
  },
  {
   "cell_type": "code",
   "execution_count": 24,
   "metadata": {},
   "outputs": [
    {
     "name": "stdout",
     "output_type": "stream",
     "text": [
      "(307511, 243)\n",
      "(48744, 243)\n"
     ]
    }
   ],
   "source": [
    "# Resolving imputations done on new dataset\n",
    "\n",
    "# Important to take out target column from the testing set, it is stored in the train_labels variable to be given as a separate parameter\n",
    "dk_training_data = apptrain_domain.drop(columns=['TARGET'])\n",
    "dk_testing_data = apptest_domain\n",
    "\n",
    "# fitting the Imputer\n",
    "imputer.fit(dk_training_data)\n",
    "imputer.fit(dk_testing_data)\n",
    "\n",
    "#transforming the data\n",
    "dk_training_data = imputer.transform(dk_training_data)\n",
    "dk_testing_data = imputer.transform(dk_testing_data)\n",
    "\n",
    "print(dk_training_data.shape)\n",
    "print(dk_testing_data.shape)"
   ]
  },
  {
   "cell_type": "markdown",
   "metadata": {},
   "source": [
    "# Random Forest Classifier with Domain Knowledge features"
   ]
  },
  {
   "cell_type": "code",
   "execution_count": 26,
   "metadata": {},
   "outputs": [
    {
     "name": "stderr",
     "output_type": "stream",
     "text": [
      "[Parallel(n_jobs=-1)]: Done  34 tasks      | elapsed:   15.8s\n",
      "[Parallel(n_jobs=-1)]: Done 184 tasks      | elapsed:  1.3min\n",
      "[Parallel(n_jobs=-1)]: Done 434 tasks      | elapsed:  2.9min\n",
      "[Parallel(n_jobs=-1)]: Done 784 tasks      | elapsed:  5.3min\n",
      "[Parallel(n_jobs=-1)]: Done 1000 out of 1000 | elapsed:  6.7min finished\n"
     ]
    },
    {
     "data": {
      "text/plain": [
       "RandomForestClassifier(bootstrap=True, class_weight=None, criterion='gini',\n",
       "            max_depth=None, max_features='auto', max_leaf_nodes=None,\n",
       "            min_impurity_decrease=0.0, min_impurity_split=None,\n",
       "            min_samples_leaf=1, min_samples_split=2,\n",
       "            min_weight_fraction_leaf=0.0, n_estimators=1000, n_jobs=-1,\n",
       "            oob_score=False, random_state=None, verbose=1,\n",
       "            warm_start=False)"
      ]
     },
     "execution_count": 26,
     "metadata": {},
     "output_type": "execute_result"
    }
   ],
   "source": [
    "dk_Random_Forest = RandomForestClassifier(n_estimators = 1000, verbose = 1, n_jobs = -1, max_features = 'auto')\n",
    "dk_Random_Forest.fit(dk_training_data, train_labels)"
   ]
  },
  {
   "cell_type": "code",
   "execution_count": 27,
   "metadata": {},
   "outputs": [
    {
     "name": "stderr",
     "output_type": "stream",
     "text": [
      "[Parallel(n_jobs=8)]: Done  34 tasks      | elapsed:    0.0s\n",
      "[Parallel(n_jobs=8)]: Done 184 tasks      | elapsed:    0.6s\n",
      "[Parallel(n_jobs=8)]: Done 434 tasks      | elapsed:    1.6s\n",
      "[Parallel(n_jobs=8)]: Done 784 tasks      | elapsed:    2.9s\n",
      "[Parallel(n_jobs=8)]: Done 1000 out of 1000 | elapsed:    3.8s finished\n",
      "C:\\Users\\Ritter\\Anaconda3\\lib\\site-packages\\ipykernel_launcher.py:4: SettingWithCopyWarning: \n",
      "A value is trying to be set on a copy of a slice from a DataFrame.\n",
      "Try using .loc[row_indexer,col_indexer] = value instead\n",
      "\n",
      "See the caveats in the documentation: http://pandas.pydata.org/pandas-docs/stable/indexing.html#indexing-view-versus-copy\n",
      "  after removing the cwd from sys.path.\n"
     ]
    }
   ],
   "source": [
    "dk_predictions = dk_Random_Forest.predict_proba(dk_testing_data)[:, 1]\n",
    "format_and_submit(dk_predictions, 'Random_Forest_DomainKnowledgeFeatures')"
   ]
  },
  {
   "cell_type": "markdown",
   "metadata": {},
   "source": [
    "# Adding Polynomial features"
   ]
  },
  {
   "cell_type": "code",
   "execution_count": 29,
   "metadata": {},
   "outputs": [
    {
     "name": "stdout",
     "output_type": "stream",
     "text": [
      "poly_features shape: (307511, 4)\n",
      "poly_features_test shape: (48744, 4)\n"
     ]
    }
   ],
   "source": [
    "# Creating polynomial features starting from the dataframe we already created domain knowledge features for\n",
    "poly_features = apptrain_domain[['EXT_SOURCE_1', 'EXT_SOURCE_2', 'EXT_SOURCE_3', 'DAYS_BIRTH', 'TARGET']]\n",
    "poly_features_test = apptest_domain[['EXT_SOURCE_1', 'EXT_SOURCE_2', 'EXT_SOURCE_3', 'DAYS_BIRTH']]\n",
    "\n",
    "# Removing target column so fits are the same\n",
    "poly_target = poly_features['TARGET']\n",
    "poly_features = poly_features.drop(columns = ['TARGET'])\n",
    "\n",
    "# Imputing values\n",
    "poly_features = imputer.fit_transform(poly_features)\n",
    "poly_features_test = imputer.transform(poly_features_test)\n",
    "\n",
    "print('poly_features shape: {}'.format(poly_features.shape))\n",
    "print('poly_features_test shape: {}'.format(poly_features_test.shape))"
   ]
  },
  {
   "cell_type": "code",
   "execution_count": 31,
   "metadata": {},
   "outputs": [
    {
     "name": "stdout",
     "output_type": "stream",
     "text": [
      "Polynomial Features Shape:  (307511, 35)\n"
     ]
    }
   ],
   "source": [
    "from sklearn.preprocessing import PolynomialFeatures\n",
    "#Create polynomial object with specific degree\n",
    "poly_transformer = PolynomialFeatures(degree = 3)\n",
    "poly_transformer.fit(poly_features)\n",
    "\n",
    "#transforming features\n",
    "poly_features = poly_transformer.transform(poly_features)\n",
    "poly_features_test = poly_transformer.transform(poly_features_test)\n",
    "print('Polynomial Features Shape: ', poly_features.shape)"
   ]
  },
  {
   "cell_type": "code",
   "execution_count": 34,
   "metadata": {},
   "outputs": [],
   "source": [
    "# Turning polynomial features into dataframe for both training and testing\n",
    "poly_features = pd.DataFrame(poly_features, columns = poly_transformer.get_feature_names(['EXT_SOURCE_1', 'EXT_SOURCE_2', 'EXT_SOURCE_3', 'DAYS_BIRTH']))\n",
    "# Put target back into poly_features\n",
    "poly_features['TARGET'] = poly_target\n",
    "\n",
    "# Testing dataset\n",
    "poly_features_test = pd.DataFrame(poly_features_test, columns = poly_transformer.get_feature_names(['EXT_SOURCE_1', 'EXT_SOURCE_2', 'EXT_SOURCE_3', 'DAYS_BIRTH']))"
   ]
  },
  {
   "cell_type": "code",
   "execution_count": 41,
   "metadata": {},
   "outputs": [
    {
     "name": "stdout",
     "output_type": "stream",
     "text": [
      "polynomial domain knowledge training dataset:  (307511, 278)\n",
      "polynomial domain knowledge testing dataset:  (48744, 278)\n"
     ]
    }
   ],
   "source": [
    "# Creating common column to merge training dataset and polyfeatures dataset\n",
    "poly_features['SK_ID_CURR'] = apptrain_domain['SK_ID_CURR']\n",
    "pdk_training_df = apptrain_domain.merge(poly_features, on = 'SK_ID_CURR', how = 'left')\n",
    "\n",
    "# Doing same for test dataset\n",
    "poly_features_test['SK_ID_CURR'] = apptest_domain['SK_ID_CURR']\n",
    "pdk_testing_df = apptest_domain.merge(poly_features_test, on = 'SK_ID_CURR', how = 'left')\n",
    "\n",
    "# Align that dataframes\n",
    "pdk_training_df, pdk_testing_df = pdk_training_df.align(pdk_testing_df, join = 'inner', axis = 1)\n",
    "\n",
    "print('polynomial domain knowledge training dataset: ', pdk_training_df.shape)\n",
    "print('polynomial domain knowledge testing dataset: ', pdk_testing_df.shape)\n",
    "pdk_train_labels = poly_features['TARGET']"
   ]
  },
  {
   "cell_type": "markdown",
   "metadata": {},
   "source": [
    "## Random Forest Classifier with Polynomial Features AND Domain Knowledge Features\n",
    "\n",
    "Next steps are to imputate, and run the model with the new features"
   ]
  },
  {
   "cell_type": "code",
   "execution_count": 42,
   "metadata": {},
   "outputs": [],
   "source": [
    "# It's beneficial to use copies of the original dataframe, just in case you mess up you can always toss the copy out\n",
    "poly_training_data = pdk_training_df.copy()\n",
    "poly_testing_data = pdk_testing_df.copy()\n",
    "\n",
    "poly_training_data = imputer.fit_transform(poly_training_data)\n",
    "poly_testing_data = imputer.transform(poly_testing_data)"
   ]
  },
  {
   "cell_type": "code",
   "execution_count": 45,
   "metadata": {},
   "outputs": [
    {
     "name": "stderr",
     "output_type": "stream",
     "text": [
      "[Parallel(n_jobs=-1)]: Done  34 tasks      | elapsed:   21.6s\n",
      "[Parallel(n_jobs=-1)]: Done 184 tasks      | elapsed:  1.7min\n",
      "[Parallel(n_jobs=-1)]: Done 434 tasks      | elapsed:  4.0min\n",
      "[Parallel(n_jobs=-1)]: Done 784 tasks      | elapsed:  7.2min\n",
      "[Parallel(n_jobs=-1)]: Done 1000 out of 1000 | elapsed:  9.1min finished\n"
     ]
    },
    {
     "data": {
      "text/plain": [
       "RandomForestClassifier(bootstrap=True, class_weight=None, criterion='gini',\n",
       "            max_depth=None, max_features='auto', max_leaf_nodes=None,\n",
       "            min_impurity_decrease=0.0, min_impurity_split=None,\n",
       "            min_samples_leaf=1, min_samples_split=2,\n",
       "            min_weight_fraction_leaf=0.0, n_estimators=1000, n_jobs=-1,\n",
       "            oob_score=False, random_state=None, verbose=1,\n",
       "            warm_start=False)"
      ]
     },
     "execution_count": 45,
     "metadata": {},
     "output_type": "execute_result"
    }
   ],
   "source": [
    "PDK_Random_Forest = RandomForestClassifier(n_estimators = 1000, verbose = 1, n_jobs = -1, max_features = 'auto')\n",
    "PDK_Random_Forest.fit(poly_training_data, pdk_train_labels)"
   ]
  },
  {
   "cell_type": "code",
   "execution_count": 46,
   "metadata": {},
   "outputs": [
    {
     "name": "stderr",
     "output_type": "stream",
     "text": [
      "[Parallel(n_jobs=8)]: Done  34 tasks      | elapsed:    0.0s\n",
      "[Parallel(n_jobs=8)]: Done 184 tasks      | elapsed:    0.7s\n",
      "[Parallel(n_jobs=8)]: Done 434 tasks      | elapsed:    1.7s\n",
      "[Parallel(n_jobs=8)]: Done 784 tasks      | elapsed:    3.1s\n",
      "[Parallel(n_jobs=8)]: Done 1000 out of 1000 | elapsed:    4.0s finished\n",
      "C:\\Users\\Ritter\\Anaconda3\\lib\\site-packages\\ipykernel_launcher.py:4: SettingWithCopyWarning: \n",
      "A value is trying to be set on a copy of a slice from a DataFrame.\n",
      "Try using .loc[row_indexer,col_indexer] = value instead\n",
      "\n",
      "See the caveats in the documentation: http://pandas.pydata.org/pandas-docs/stable/indexing.html#indexing-view-versus-copy\n",
      "  after removing the cwd from sys.path.\n"
     ]
    }
   ],
   "source": [
    "PDK_predictions = PDK_Random_Forest.predict_proba(poly_testing_data)[:, 1]\n",
    "format_and_submit(PDK_predictions, 'Random_Forest_PDK')"
   ]
  },
  {
   "cell_type": "markdown",
   "metadata": {},
   "source": [
    "# Automated Feature Selection\n",
    "Let's take only the features that were useful, We're doing this now because we see a drop in score."
   ]
  },
  {
   "cell_type": "code",
   "execution_count": 51,
   "metadata": {},
   "outputs": [
    {
     "data": {
      "text/plain": [
       "['SK_ID_CURR',\n",
       " 'NAME_CONTRACT_TYPE',\n",
       " 'FLAG_OWN_CAR',\n",
       " 'FLAG_OWN_REALTY',\n",
       " 'CNT_CHILDREN',\n",
       " 'AMT_INCOME_TOTAL',\n",
       " 'AMT_CREDIT',\n",
       " 'AMT_ANNUITY',\n",
       " 'AMT_GOODS_PRICE',\n",
       " 'REGION_POPULATION_RELATIVE',\n",
       " 'DAYS_BIRTH_x',\n",
       " 'DAYS_EMPLOYED',\n",
       " 'DAYS_REGISTRATION',\n",
       " 'DAYS_ID_PUBLISH',\n",
       " 'OWN_CAR_AGE',\n",
       " 'FLAG_MOBIL',\n",
       " 'FLAG_EMP_PHONE',\n",
       " 'FLAG_WORK_PHONE',\n",
       " 'FLAG_CONT_MOBILE',\n",
       " 'FLAG_PHONE',\n",
       " 'FLAG_EMAIL',\n",
       " 'CNT_FAM_MEMBERS',\n",
       " 'REGION_RATING_CLIENT',\n",
       " 'REGION_RATING_CLIENT_W_CITY',\n",
       " 'HOUR_APPR_PROCESS_START',\n",
       " 'REG_REGION_NOT_LIVE_REGION',\n",
       " 'REG_REGION_NOT_WORK_REGION',\n",
       " 'LIVE_REGION_NOT_WORK_REGION',\n",
       " 'REG_CITY_NOT_LIVE_CITY',\n",
       " 'REG_CITY_NOT_WORK_CITY',\n",
       " 'LIVE_CITY_NOT_WORK_CITY',\n",
       " 'EXT_SOURCE_1_x',\n",
       " 'EXT_SOURCE_2_x',\n",
       " 'EXT_SOURCE_3_x',\n",
       " 'APARTMENTS_AVG',\n",
       " 'BASEMENTAREA_AVG',\n",
       " 'YEARS_BEGINEXPLUATATION_AVG',\n",
       " 'YEARS_BUILD_AVG',\n",
       " 'COMMONAREA_AVG',\n",
       " 'ELEVATORS_AVG',\n",
       " 'ENTRANCES_AVG',\n",
       " 'FLOORSMAX_AVG',\n",
       " 'FLOORSMIN_AVG',\n",
       " 'LANDAREA_AVG',\n",
       " 'LIVINGAPARTMENTS_AVG',\n",
       " 'LIVINGAREA_AVG',\n",
       " 'NONLIVINGAPARTMENTS_AVG',\n",
       " 'NONLIVINGAREA_AVG',\n",
       " 'APARTMENTS_MODE',\n",
       " 'BASEMENTAREA_MODE',\n",
       " 'YEARS_BEGINEXPLUATATION_MODE',\n",
       " 'YEARS_BUILD_MODE',\n",
       " 'COMMONAREA_MODE',\n",
       " 'ELEVATORS_MODE',\n",
       " 'ENTRANCES_MODE',\n",
       " 'FLOORSMAX_MODE',\n",
       " 'FLOORSMIN_MODE',\n",
       " 'LANDAREA_MODE',\n",
       " 'LIVINGAPARTMENTS_MODE',\n",
       " 'LIVINGAREA_MODE',\n",
       " 'NONLIVINGAPARTMENTS_MODE',\n",
       " 'NONLIVINGAREA_MODE',\n",
       " 'APARTMENTS_MEDI',\n",
       " 'BASEMENTAREA_MEDI',\n",
       " 'YEARS_BEGINEXPLUATATION_MEDI',\n",
       " 'YEARS_BUILD_MEDI',\n",
       " 'COMMONAREA_MEDI',\n",
       " 'ELEVATORS_MEDI',\n",
       " 'ENTRANCES_MEDI',\n",
       " 'FLOORSMAX_MEDI',\n",
       " 'FLOORSMIN_MEDI',\n",
       " 'LANDAREA_MEDI',\n",
       " 'LIVINGAPARTMENTS_MEDI',\n",
       " 'LIVINGAREA_MEDI',\n",
       " 'NONLIVINGAPARTMENTS_MEDI',\n",
       " 'NONLIVINGAREA_MEDI',\n",
       " 'TOTALAREA_MODE',\n",
       " 'OBS_30_CNT_SOCIAL_CIRCLE',\n",
       " 'DEF_30_CNT_SOCIAL_CIRCLE',\n",
       " 'OBS_60_CNT_SOCIAL_CIRCLE',\n",
       " 'DEF_60_CNT_SOCIAL_CIRCLE',\n",
       " 'DAYS_LAST_PHONE_CHANGE',\n",
       " 'FLAG_DOCUMENT_2',\n",
       " 'FLAG_DOCUMENT_3',\n",
       " 'FLAG_DOCUMENT_4',\n",
       " 'FLAG_DOCUMENT_5',\n",
       " 'FLAG_DOCUMENT_6',\n",
       " 'FLAG_DOCUMENT_7',\n",
       " 'FLAG_DOCUMENT_8',\n",
       " 'FLAG_DOCUMENT_9',\n",
       " 'FLAG_DOCUMENT_10',\n",
       " 'FLAG_DOCUMENT_11',\n",
       " 'FLAG_DOCUMENT_12',\n",
       " 'FLAG_DOCUMENT_13',\n",
       " 'FLAG_DOCUMENT_14',\n",
       " 'FLAG_DOCUMENT_15',\n",
       " 'FLAG_DOCUMENT_16',\n",
       " 'FLAG_DOCUMENT_17',\n",
       " 'FLAG_DOCUMENT_18',\n",
       " 'FLAG_DOCUMENT_19',\n",
       " 'FLAG_DOCUMENT_20',\n",
       " 'FLAG_DOCUMENT_21',\n",
       " 'AMT_REQ_CREDIT_BUREAU_HOUR',\n",
       " 'AMT_REQ_CREDIT_BUREAU_DAY',\n",
       " 'AMT_REQ_CREDIT_BUREAU_WEEK',\n",
       " 'AMT_REQ_CREDIT_BUREAU_MON',\n",
       " 'AMT_REQ_CREDIT_BUREAU_QRT',\n",
       " 'AMT_REQ_CREDIT_BUREAU_YEAR',\n",
       " 'CODE_GENDER_F',\n",
       " 'CODE_GENDER_M',\n",
       " 'NAME_TYPE_SUITE_Children',\n",
       " 'NAME_TYPE_SUITE_Family',\n",
       " 'NAME_TYPE_SUITE_Group of people',\n",
       " 'NAME_TYPE_SUITE_Other_A',\n",
       " 'NAME_TYPE_SUITE_Other_B',\n",
       " 'NAME_TYPE_SUITE_Spouse, partner',\n",
       " 'NAME_TYPE_SUITE_Unaccompanied',\n",
       " 'NAME_INCOME_TYPE_Businessman',\n",
       " 'NAME_INCOME_TYPE_Commercial associate',\n",
       " 'NAME_INCOME_TYPE_Pensioner',\n",
       " 'NAME_INCOME_TYPE_State servant',\n",
       " 'NAME_INCOME_TYPE_Student',\n",
       " 'NAME_INCOME_TYPE_Unemployed',\n",
       " 'NAME_INCOME_TYPE_Working',\n",
       " 'NAME_EDUCATION_TYPE_Academic degree',\n",
       " 'NAME_EDUCATION_TYPE_Higher education',\n",
       " 'NAME_EDUCATION_TYPE_Incomplete higher',\n",
       " 'NAME_EDUCATION_TYPE_Lower secondary',\n",
       " 'NAME_EDUCATION_TYPE_Secondary / secondary special',\n",
       " 'NAME_FAMILY_STATUS_Civil marriage',\n",
       " 'NAME_FAMILY_STATUS_Married',\n",
       " 'NAME_FAMILY_STATUS_Separated',\n",
       " 'NAME_FAMILY_STATUS_Single / not married',\n",
       " 'NAME_FAMILY_STATUS_Widow',\n",
       " 'NAME_HOUSING_TYPE_Co-op apartment',\n",
       " 'NAME_HOUSING_TYPE_House / apartment',\n",
       " 'NAME_HOUSING_TYPE_Municipal apartment',\n",
       " 'NAME_HOUSING_TYPE_Office apartment',\n",
       " 'NAME_HOUSING_TYPE_Rented apartment',\n",
       " 'NAME_HOUSING_TYPE_With parents',\n",
       " 'OCCUPATION_TYPE_Accountants',\n",
       " 'OCCUPATION_TYPE_Cleaning staff',\n",
       " 'OCCUPATION_TYPE_Cooking staff',\n",
       " 'OCCUPATION_TYPE_Core staff',\n",
       " 'OCCUPATION_TYPE_Drivers',\n",
       " 'OCCUPATION_TYPE_HR staff',\n",
       " 'OCCUPATION_TYPE_High skill tech staff',\n",
       " 'OCCUPATION_TYPE_IT staff',\n",
       " 'OCCUPATION_TYPE_Laborers',\n",
       " 'OCCUPATION_TYPE_Low-skill Laborers',\n",
       " 'OCCUPATION_TYPE_Managers',\n",
       " 'OCCUPATION_TYPE_Medicine staff',\n",
       " 'OCCUPATION_TYPE_Private service staff',\n",
       " 'OCCUPATION_TYPE_Realty agents',\n",
       " 'OCCUPATION_TYPE_Sales staff',\n",
       " 'OCCUPATION_TYPE_Secretaries',\n",
       " 'OCCUPATION_TYPE_Security staff',\n",
       " 'OCCUPATION_TYPE_Waiters/barmen staff',\n",
       " 'WEEKDAY_APPR_PROCESS_START_FRIDAY',\n",
       " 'WEEKDAY_APPR_PROCESS_START_MONDAY',\n",
       " 'WEEKDAY_APPR_PROCESS_START_SATURDAY',\n",
       " 'WEEKDAY_APPR_PROCESS_START_SUNDAY',\n",
       " 'WEEKDAY_APPR_PROCESS_START_THURSDAY',\n",
       " 'WEEKDAY_APPR_PROCESS_START_TUESDAY',\n",
       " 'WEEKDAY_APPR_PROCESS_START_WEDNESDAY',\n",
       " 'ORGANIZATION_TYPE_Advertising',\n",
       " 'ORGANIZATION_TYPE_Agriculture',\n",
       " 'ORGANIZATION_TYPE_Bank',\n",
       " 'ORGANIZATION_TYPE_Business Entity Type 1',\n",
       " 'ORGANIZATION_TYPE_Business Entity Type 2',\n",
       " 'ORGANIZATION_TYPE_Business Entity Type 3',\n",
       " 'ORGANIZATION_TYPE_Cleaning',\n",
       " 'ORGANIZATION_TYPE_Construction',\n",
       " 'ORGANIZATION_TYPE_Culture',\n",
       " 'ORGANIZATION_TYPE_Electricity',\n",
       " 'ORGANIZATION_TYPE_Emergency',\n",
       " 'ORGANIZATION_TYPE_Government',\n",
       " 'ORGANIZATION_TYPE_Hotel',\n",
       " 'ORGANIZATION_TYPE_Housing',\n",
       " 'ORGANIZATION_TYPE_Industry: type 1',\n",
       " 'ORGANIZATION_TYPE_Industry: type 10',\n",
       " 'ORGANIZATION_TYPE_Industry: type 11',\n",
       " 'ORGANIZATION_TYPE_Industry: type 12',\n",
       " 'ORGANIZATION_TYPE_Industry: type 13',\n",
       " 'ORGANIZATION_TYPE_Industry: type 2',\n",
       " 'ORGANIZATION_TYPE_Industry: type 3',\n",
       " 'ORGANIZATION_TYPE_Industry: type 4',\n",
       " 'ORGANIZATION_TYPE_Industry: type 5',\n",
       " 'ORGANIZATION_TYPE_Industry: type 6',\n",
       " 'ORGANIZATION_TYPE_Industry: type 7',\n",
       " 'ORGANIZATION_TYPE_Industry: type 8',\n",
       " 'ORGANIZATION_TYPE_Industry: type 9',\n",
       " 'ORGANIZATION_TYPE_Insurance',\n",
       " 'ORGANIZATION_TYPE_Kindergarten',\n",
       " 'ORGANIZATION_TYPE_Legal Services',\n",
       " 'ORGANIZATION_TYPE_Medicine',\n",
       " 'ORGANIZATION_TYPE_Military',\n",
       " 'ORGANIZATION_TYPE_Mobile',\n",
       " 'ORGANIZATION_TYPE_Other',\n",
       " 'ORGANIZATION_TYPE_Police',\n",
       " 'ORGANIZATION_TYPE_Postal',\n",
       " 'ORGANIZATION_TYPE_Realtor',\n",
       " 'ORGANIZATION_TYPE_Religion',\n",
       " 'ORGANIZATION_TYPE_Restaurant',\n",
       " 'ORGANIZATION_TYPE_School',\n",
       " 'ORGANIZATION_TYPE_Security',\n",
       " 'ORGANIZATION_TYPE_Security Ministries',\n",
       " 'ORGANIZATION_TYPE_Self-employed',\n",
       " 'ORGANIZATION_TYPE_Services',\n",
       " 'ORGANIZATION_TYPE_Telecom',\n",
       " 'ORGANIZATION_TYPE_Trade: type 1',\n",
       " 'ORGANIZATION_TYPE_Trade: type 2',\n",
       " 'ORGANIZATION_TYPE_Trade: type 3',\n",
       " 'ORGANIZATION_TYPE_Trade: type 4',\n",
       " 'ORGANIZATION_TYPE_Trade: type 5',\n",
       " 'ORGANIZATION_TYPE_Trade: type 6',\n",
       " 'ORGANIZATION_TYPE_Trade: type 7',\n",
       " 'ORGANIZATION_TYPE_Transport: type 1',\n",
       " 'ORGANIZATION_TYPE_Transport: type 2',\n",
       " 'ORGANIZATION_TYPE_Transport: type 3',\n",
       " 'ORGANIZATION_TYPE_Transport: type 4',\n",
       " 'ORGANIZATION_TYPE_University',\n",
       " 'ORGANIZATION_TYPE_XNA',\n",
       " 'FONDKAPREMONT_MODE_not specified',\n",
       " 'FONDKAPREMONT_MODE_org spec account',\n",
       " 'FONDKAPREMONT_MODE_reg oper account',\n",
       " 'FONDKAPREMONT_MODE_reg oper spec account',\n",
       " 'HOUSETYPE_MODE_block of flats',\n",
       " 'HOUSETYPE_MODE_specific housing',\n",
       " 'HOUSETYPE_MODE_terraced house',\n",
       " 'WALLSMATERIAL_MODE_Block',\n",
       " 'WALLSMATERIAL_MODE_Mixed',\n",
       " 'WALLSMATERIAL_MODE_Monolithic',\n",
       " 'WALLSMATERIAL_MODE_Others',\n",
       " 'WALLSMATERIAL_MODE_Panel',\n",
       " 'WALLSMATERIAL_MODE_Stone, brick',\n",
       " 'WALLSMATERIAL_MODE_Wooden',\n",
       " 'EMERGENCYSTATE_MODE_No',\n",
       " 'EMERGENCYSTATE_MODE_Yes',\n",
       " 'CREDIT_INCOME_PERCENT',\n",
       " 'ANNUITY_INCOME_PERCENT',\n",
       " 'CREDIT_TERM',\n",
       " 'DAYS_EMPLOYED_PERCENT',\n",
       " '1',\n",
       " 'EXT_SOURCE_1_y',\n",
       " 'EXT_SOURCE_2_y',\n",
       " 'EXT_SOURCE_3_y',\n",
       " 'DAYS_BIRTH_y',\n",
       " 'EXT_SOURCE_1^2',\n",
       " 'EXT_SOURCE_1 EXT_SOURCE_2',\n",
       " 'EXT_SOURCE_1 EXT_SOURCE_3',\n",
       " 'EXT_SOURCE_1 DAYS_BIRTH',\n",
       " 'EXT_SOURCE_2^2',\n",
       " 'EXT_SOURCE_2 EXT_SOURCE_3',\n",
       " 'EXT_SOURCE_2 DAYS_BIRTH',\n",
       " 'EXT_SOURCE_3^2',\n",
       " 'EXT_SOURCE_3 DAYS_BIRTH',\n",
       " 'DAYS_BIRTH^2',\n",
       " 'EXT_SOURCE_1^3',\n",
       " 'EXT_SOURCE_1^2 EXT_SOURCE_2',\n",
       " 'EXT_SOURCE_1^2 EXT_SOURCE_3',\n",
       " 'EXT_SOURCE_1^2 DAYS_BIRTH',\n",
       " 'EXT_SOURCE_1 EXT_SOURCE_2^2',\n",
       " 'EXT_SOURCE_1 EXT_SOURCE_2 EXT_SOURCE_3',\n",
       " 'EXT_SOURCE_1 EXT_SOURCE_2 DAYS_BIRTH',\n",
       " 'EXT_SOURCE_1 EXT_SOURCE_3^2',\n",
       " 'EXT_SOURCE_1 EXT_SOURCE_3 DAYS_BIRTH',\n",
       " 'EXT_SOURCE_1 DAYS_BIRTH^2',\n",
       " 'EXT_SOURCE_2^3',\n",
       " 'EXT_SOURCE_2^2 EXT_SOURCE_3',\n",
       " 'EXT_SOURCE_2^2 DAYS_BIRTH',\n",
       " 'EXT_SOURCE_2 EXT_SOURCE_3^2',\n",
       " 'EXT_SOURCE_2 EXT_SOURCE_3 DAYS_BIRTH',\n",
       " 'EXT_SOURCE_2 DAYS_BIRTH^2',\n",
       " 'EXT_SOURCE_3^3',\n",
       " 'EXT_SOURCE_3^2 DAYS_BIRTH',\n",
       " 'EXT_SOURCE_3 DAYS_BIRTH^2',\n",
       " 'DAYS_BIRTH^3']"
      ]
     },
     "execution_count": 51,
     "metadata": {},
     "output_type": "execute_result"
    }
   ],
   "source": [
    "from sklearn.feature_selection import SelectFromModel\n",
    "\n",
    "# Instantiating the feature selection object\n",
    "select = SelectFromModel(PDK_Random_Forest, threshold = 'median')\n",
    "# Created list of features that exist\n",
    "feature_list = list(pdk_training_df.columns)"
   ]
  },
  {
   "cell_type": "code",
   "execution_count": 52,
   "metadata": {},
   "outputs": [
    {
     "name": "stderr",
     "output_type": "stream",
     "text": [
      "[Parallel(n_jobs=-1)]: Done  34 tasks      | elapsed:   21.3s\n",
      "[Parallel(n_jobs=-1)]: Done 184 tasks      | elapsed:  1.7min\n",
      "[Parallel(n_jobs=-1)]: Done 434 tasks      | elapsed:  4.0min\n",
      "[Parallel(n_jobs=-1)]: Done 784 tasks      | elapsed:  7.2min\n",
      "[Parallel(n_jobs=-1)]: Done 1234 tasks      | elapsed: 11.3min\n",
      "[Parallel(n_jobs=-1)]: Done 1784 tasks      | elapsed: 16.2min\n",
      "[Parallel(n_jobs=-1)]: Done 2434 tasks      | elapsed: 21.7min\n",
      "[Parallel(n_jobs=-1)]: Done 3184 tasks      | elapsed: 28.0min\n",
      "[Parallel(n_jobs=-1)]: Done 4034 tasks      | elapsed: 35.2min\n",
      "[Parallel(n_jobs=-1)]: Done 4984 tasks      | elapsed: 43.3min\n",
      "[Parallel(n_jobs=-1)]: Done 6034 tasks      | elapsed: 52.4min\n",
      "[Parallel(n_jobs=-1)]: Done 7184 tasks      | elapsed: 61.8min\n",
      "[Parallel(n_jobs=-1)]: Done 8434 tasks      | elapsed: 72.5min\n",
      "[Parallel(n_jobs=-1)]: Done 9784 tasks      | elapsed: 83.5min\n",
      "[Parallel(n_jobs=-1)]: Done 10000 out of 10000 | elapsed: 85.2min finished\n"
     ]
    },
    {
     "data": {
      "text/plain": [
       "RandomForestClassifier(bootstrap=True, class_weight=None, criterion='gini',\n",
       "            max_depth=None, max_features='auto', max_leaf_nodes=None,\n",
       "            min_impurity_decrease=0.0, min_impurity_split=None,\n",
       "            min_samples_leaf=1, min_samples_split=2,\n",
       "            min_weight_fraction_leaf=0.0, n_estimators=10000, n_jobs=-1,\n",
       "            oob_score=False, random_state=None, verbose=1,\n",
       "            warm_start=False)"
      ]
     },
     "execution_count": 52,
     "metadata": {},
     "output_type": "execute_result"
    }
   ],
   "source": [
    "# Polynomial/ Domain Knowledge Automated Feature Selection\n",
    "PDK_AFS_Random_Forest = RandomForestClassifier(n_estimators = 10000, verbose = 1, n_jobs = -1, max_features = 'auto')\n",
    "PDK_AFS_Random_Forest.fit(poly_training_data, pdk_train_labels)\n",
    "\n",
    "\n",
    "\n",
    "# select.fit(poly_training_data, pdk_train_labels)\n",
    "# original_training_data = "
   ]
  },
  {
   "cell_type": "code",
   "execution_count": 53,
   "metadata": {},
   "outputs": [
    {
     "name": "stderr",
     "output_type": "stream",
     "text": [
      "[Parallel(n_jobs=8)]: Done  34 tasks      | elapsed:    0.3s\n",
      "[Parallel(n_jobs=8)]: Done 184 tasks      | elapsed:    1.7s\n",
      "[Parallel(n_jobs=8)]: Done 434 tasks      | elapsed:    4.3s\n",
      "[Parallel(n_jobs=8)]: Done 784 tasks      | elapsed:    7.4s\n",
      "[Parallel(n_jobs=8)]: Done 1234 tasks      | elapsed:   11.7s\n",
      "[Parallel(n_jobs=8)]: Done 1784 tasks      | elapsed:   18.8s\n",
      "[Parallel(n_jobs=8)]: Done 2434 tasks      | elapsed:   28.3s\n",
      "[Parallel(n_jobs=8)]: Done 3184 tasks      | elapsed:   42.5s\n",
      "[Parallel(n_jobs=8)]: Done 4034 tasks      | elapsed:   56.5s\n",
      "[Parallel(n_jobs=8)]: Done 4984 tasks      | elapsed:  1.1min\n",
      "[Parallel(n_jobs=8)]: Done 6034 tasks      | elapsed:  1.5min\n",
      "[Parallel(n_jobs=8)]: Done 7184 tasks      | elapsed:  1.9min\n",
      "[Parallel(n_jobs=8)]: Done 8434 tasks      | elapsed:  2.1min\n",
      "[Parallel(n_jobs=8)]: Done 9784 tasks      | elapsed:  2.6min\n",
      "[Parallel(n_jobs=8)]: Done 10000 out of 10000 | elapsed:  2.6min finished\n",
      "C:\\Users\\Ritter\\Anaconda3\\lib\\site-packages\\ipykernel_launcher.py:4: SettingWithCopyWarning: \n",
      "A value is trying to be set on a copy of a slice from a DataFrame.\n",
      "Try using .loc[row_indexer,col_indexer] = value instead\n",
      "\n",
      "See the caveats in the documentation: http://pandas.pydata.org/pandas-docs/stable/indexing.html#indexing-view-versus-copy\n",
      "  after removing the cwd from sys.path.\n"
     ]
    }
   ],
   "source": [
    "# Out of curiousity, Let's do predictions with this classifier\n",
    "PDK_AFS_predictions = PDK_AFS_Random_Forest.predict_proba(poly_testing_data)[:, 1]\n",
    "format_and_submit(PDK_AFS_predictions, 'Random_Forest_PDKAFS')"
   ]
  },
  {
   "cell_type": "code",
   "execution_count": 54,
   "metadata": {},
   "outputs": [
    {
     "name": "stdout",
     "output_type": "stream",
     "text": [
      "('SK_ID_CURR', 0.015383175797032866)\n",
      "('NAME_CONTRACT_TYPE', 0.0008957645310569676)\n",
      "('FLAG_OWN_CAR', 0.0019447149115233724)\n",
      "('FLAG_OWN_REALTY', 0.0020233121566896324)\n",
      "('CNT_CHILDREN', 0.003391099078098246)\n",
      "('AMT_INCOME_TOTAL', 0.011584363793328771)\n",
      "('AMT_CREDIT', 0.012869790092846327)\n",
      "('AMT_ANNUITY', 0.013947017139066901)\n",
      "('AMT_GOODS_PRICE', 0.011228741527099068)\n",
      "('REGION_POPULATION_RELATIVE', 0.012202933765806813)\n",
      "('DAYS_BIRTH_x', 0.012246577859039013)\n",
      "('DAYS_EMPLOYED', 0.0141455217166457)\n",
      "('DAYS_REGISTRATION', 0.015857744291107638)\n",
      "('DAYS_ID_PUBLISH', 0.015852721162035396)\n",
      "('OWN_CAR_AGE', 0.006913615866489127)\n",
      "('FLAG_MOBIL', 0.0)\n",
      "('FLAG_EMP_PHONE', 0.0006073349988061394)\n",
      "('FLAG_WORK_PHONE', 0.001918875613356334)\n",
      "('FLAG_CONT_MOBILE', 0.00017933437457276423)\n",
      "('FLAG_PHONE', 0.0018159828121318213)\n",
      "('FLAG_EMAIL', 0.0009930382319656827)\n",
      "('CNT_FAM_MEMBERS', 0.004758467313327236)\n",
      "('REGION_RATING_CLIENT', 0.002578264901136775)\n",
      "('REGION_RATING_CLIENT_W_CITY', 0.0025970891006059497)\n",
      "('HOUR_APPR_PROCESS_START', 0.010671436174446759)\n",
      "('REG_REGION_NOT_LIVE_REGION', 0.0006202198224337652)\n",
      "('REG_REGION_NOT_WORK_REGION', 0.0009699526866048876)\n",
      "('LIVE_REGION_NOT_WORK_REGION', 0.0008885543788097124)\n",
      "('REG_CITY_NOT_LIVE_CITY', 0.0018583055516885273)\n",
      "('REG_CITY_NOT_WORK_CITY', 0.0018991944196615322)\n",
      "('LIVE_CITY_NOT_WORK_CITY', 0.0018172607238319326)\n",
      "('EXT_SOURCE_1_x', 0.0062990823471106945)\n",
      "('EXT_SOURCE_2_x', 0.012928421836888504)\n",
      "('EXT_SOURCE_3_x', 0.010129178447509218)\n",
      "('APARTMENTS_AVG', 0.004725928930008893)\n",
      "('BASEMENTAREA_AVG', 0.004240666534355023)\n",
      "('YEARS_BEGINEXPLUATATION_AVG', 0.005139508644770381)\n",
      "('YEARS_BUILD_AVG', 0.003730091672921379)\n",
      "('COMMONAREA_AVG', 0.0036556163823174017)\n",
      "('ELEVATORS_AVG', 0.0014032230748206218)\n",
      "('ENTRANCES_AVG', 0.0031798929572055025)\n",
      "('FLOORSMAX_AVG', 0.0023626286464292624)\n",
      "('FLOORSMIN_AVG', 0.0020346793736456957)\n",
      "('LANDAREA_AVG', 0.00455848137177991)\n",
      "('LIVINGAPARTMENTS_AVG', 0.0035035531833914457)\n",
      "('LIVINGAREA_AVG', 0.005365328878683181)\n",
      "('NONLIVINGAPARTMENTS_AVG', 0.0015943818478471002)\n",
      "('NONLIVINGAREA_AVG', 0.0037186814655989523)\n",
      "('APARTMENTS_MODE', 0.004569389428664449)\n",
      "('BASEMENTAREA_MODE', 0.00422417402581513)\n",
      "('YEARS_BEGINEXPLUATATION_MODE', 0.005182099496257352)\n",
      "('YEARS_BUILD_MODE', 0.003719240485335874)\n",
      "('COMMONAREA_MODE', 0.003620761044907983)\n",
      "('ELEVATORS_MODE', 0.0012397926802216175)\n",
      "('ENTRANCES_MODE', 0.002906930353450609)\n",
      "('FLOORSMAX_MODE', 0.0020783542892271628)\n",
      "('FLOORSMIN_MODE', 0.001856330985484763)\n",
      "('LANDAREA_MODE', 0.004511446853022558)\n",
      "('LIVINGAPARTMENTS_MODE', 0.0035335187554400007)\n",
      "('LIVINGAREA_MODE', 0.005420596348574001)\n",
      "('NONLIVINGAPARTMENTS_MODE', 0.0014521311495694336)\n",
      "('NONLIVINGAREA_MODE', 0.0035339721838986114)\n",
      "('APARTMENTS_MEDI', 0.004694781812215466)\n",
      "('BASEMENTAREA_MEDI', 0.004241307981128984)\n",
      "('YEARS_BEGINEXPLUATATION_MEDI', 0.005143033410940863)\n",
      "('YEARS_BUILD_MEDI', 0.0037085724165907058)\n",
      "('COMMONAREA_MEDI', 0.003647313733169718)\n",
      "('ELEVATORS_MEDI', 0.0013029555996082638)\n",
      "('ENTRANCES_MEDI', 0.003031591710939227)\n",
      "('FLOORSMAX_MEDI', 0.002215580832789404)\n",
      "('FLOORSMIN_MEDI', 0.0019282842222439597)\n",
      "('LANDAREA_MEDI', 0.004527236624394798)\n",
      "('LIVINGAPARTMENTS_MEDI', 0.0035305644792800934)\n",
      "('LIVINGAREA_MEDI', 0.0053626277817070715)\n",
      "('NONLIVINGAPARTMENTS_MEDI', 0.0015327299505082013)\n",
      "('NONLIVINGAREA_MEDI', 0.0036568673301416352)\n",
      "('TOTALAREA_MODE', 0.005682337388268013)\n",
      "('OBS_30_CNT_SOCIAL_CIRCLE', 0.006237933854121492)\n",
      "('DEF_30_CNT_SOCIAL_CIRCLE', 0.0030423000286856922)\n",
      "('OBS_60_CNT_SOCIAL_CIRCLE', 0.006221416613100807)\n",
      "('DEF_60_CNT_SOCIAL_CIRCLE', 0.0025744823817368916)\n",
      "('DAYS_LAST_PHONE_CHANGE', 0.013047311446703293)\n",
      "('FLAG_DOCUMENT_2', 6.710448627312048e-05)\n",
      "('FLAG_DOCUMENT_3', 0.0018256412896395162)\n",
      "('FLAG_DOCUMENT_4', 1.4873058938763852e-07)\n",
      "('FLAG_DOCUMENT_5', 0.0006803432971041779)\n",
      "('FLAG_DOCUMENT_6', 0.0007444105161540253)\n",
      "('FLAG_DOCUMENT_7', 3.314464843799902e-05)\n",
      "('FLAG_DOCUMENT_8', 0.0009973280827213272)\n",
      "('FLAG_DOCUMENT_9', 0.0002702820675911168)\n",
      "('FLAG_DOCUMENT_10', 6.686283638353857e-08)\n",
      "('FLAG_DOCUMENT_11', 0.0001656610978936675)\n",
      "('FLAG_DOCUMENT_12', 0.0)\n",
      "('FLAG_DOCUMENT_13', 8.676538137015446e-05)\n",
      "('FLAG_DOCUMENT_14', 8.928967320998422e-05)\n",
      "('FLAG_DOCUMENT_15', 4.439840248783912e-05)\n",
      "('FLAG_DOCUMENT_16', 0.00028190808723494023)\n",
      "('FLAG_DOCUMENT_17', 2.071341426373578e-05)\n",
      "('FLAG_DOCUMENT_18', 0.00027719930375932303)\n",
      "('FLAG_DOCUMENT_19', 8.468334123340818e-05)\n",
      "('FLAG_DOCUMENT_20', 5.955134108425255e-05)\n",
      "('FLAG_DOCUMENT_21', 6.273220421547437e-05)\n",
      "('AMT_REQ_CREDIT_BUREAU_HOUR', 0.00039848715977154245)\n",
      "('AMT_REQ_CREDIT_BUREAU_DAY', 0.0005237793186779803)\n",
      "('AMT_REQ_CREDIT_BUREAU_WEEK', 0.0009400209201032933)\n",
      "('AMT_REQ_CREDIT_BUREAU_MON', 0.0023701239202965113)\n",
      "('AMT_REQ_CREDIT_BUREAU_QRT', 0.002695804251124344)\n",
      "('AMT_REQ_CREDIT_BUREAU_YEAR', 0.0069195404686325165)\n",
      "('CODE_GENDER_F', 0.002143360194340148)\n",
      "('CODE_GENDER_M', 0.0021517124522048695)\n",
      "('NAME_TYPE_SUITE_Children', 0.0005969729314006077)\n",
      "('NAME_TYPE_SUITE_Family', 0.0015276171886336924)\n",
      "('NAME_TYPE_SUITE_Group of people', 0.00013951410856251608)\n",
      "('NAME_TYPE_SUITE_Other_A', 0.00032091872777612605)\n",
      "('NAME_TYPE_SUITE_Other_B', 0.0005524836713982751)\n",
      "('NAME_TYPE_SUITE_Spouse, partner', 0.0009944374361412944)\n",
      "('NAME_TYPE_SUITE_Unaccompanied', 0.0016721094822545986)\n",
      "('NAME_INCOME_TYPE_Businessman', 3.960881459311545e-08)\n",
      "('NAME_INCOME_TYPE_Commercial associate', 0.0015503869407920876)\n",
      "('NAME_INCOME_TYPE_Pensioner', 0.0006097733432751699)\n",
      "('NAME_INCOME_TYPE_State servant', 0.0008367225787032501)\n",
      "('NAME_INCOME_TYPE_Student', 3.000903854419962e-07)\n",
      "('NAME_INCOME_TYPE_Unemployed', 8.567020505789006e-05)\n",
      "('NAME_INCOME_TYPE_Working', 0.0018875969963242187)\n",
      "('NAME_EDUCATION_TYPE_Academic degree', 2.117094622043671e-05)\n",
      "('NAME_EDUCATION_TYPE_Higher education', 0.0017187126974963366)\n",
      "('NAME_EDUCATION_TYPE_Incomplete higher', 0.000729763821053252)\n",
      "('NAME_EDUCATION_TYPE_Lower secondary', 0.0008402766181138071)\n",
      "('NAME_EDUCATION_TYPE_Secondary / secondary special', 0.0019013141628697668)\n",
      "('NAME_FAMILY_STATUS_Civil marriage', 0.0016711421359621899)\n",
      "('NAME_FAMILY_STATUS_Married', 0.002083740858877677)\n",
      "('NAME_FAMILY_STATUS_Separated', 0.001268554640184293)\n",
      "('NAME_FAMILY_STATUS_Single / not married', 0.0016794295013279658)\n",
      "('NAME_FAMILY_STATUS_Widow', 0.0007664627380445048)\n",
      "('NAME_HOUSING_TYPE_Co-op apartment', 0.0002954047722524992)\n",
      "('NAME_HOUSING_TYPE_House / apartment', 0.0014980954224193652)\n",
      "('NAME_HOUSING_TYPE_Municipal apartment', 0.00097871018988098)\n",
      "('NAME_HOUSING_TYPE_Office apartment', 0.00044678141135491296)\n",
      "('NAME_HOUSING_TYPE_Rented apartment', 0.0009329904679536718)\n",
      "('NAME_HOUSING_TYPE_With parents', 0.001180747647975583)\n",
      "('OCCUPATION_TYPE_Accountants', 0.0005637894647057218)\n",
      "('OCCUPATION_TYPE_Cleaning staff', 0.0007603724880997011)\n",
      "('OCCUPATION_TYPE_Cooking staff', 0.0008765475797578748)\n",
      "('OCCUPATION_TYPE_Core staff', 0.0010058978559610197)\n",
      "('OCCUPATION_TYPE_Drivers', 0.0014811785421965573)\n",
      "('OCCUPATION_TYPE_HR staff', 0.0001427327515884097)\n",
      "('OCCUPATION_TYPE_High skill tech staff', 0.0007259045081864082)\n",
      "('OCCUPATION_TYPE_IT staff', 0.00013788754951537627)\n",
      "('OCCUPATION_TYPE_Laborers', 0.0019987095163385474)\n",
      "('OCCUPATION_TYPE_Low-skill Laborers', 0.0009025156438611635)\n",
      "('OCCUPATION_TYPE_Managers', 0.0009505179720725051)\n",
      "('OCCUPATION_TYPE_Medicine staff', 0.000665364835952277)\n",
      "('OCCUPATION_TYPE_Private service staff', 0.0004194273286730814)\n",
      "('OCCUPATION_TYPE_Realty agents', 0.0002675728740459474)\n",
      "('OCCUPATION_TYPE_Sales staff', 0.0015506300804333266)\n",
      "('OCCUPATION_TYPE_Secretaries', 0.0003098980473273173)\n",
      "('OCCUPATION_TYPE_Security staff', 0.0009552054643173682)\n",
      "('OCCUPATION_TYPE_Waiters/barmen staff', 0.0004372809646467463)\n",
      "('WEEKDAY_APPR_PROCESS_START_FRIDAY', 0.0017592299751674396)\n",
      "('WEEKDAY_APPR_PROCESS_START_MONDAY', 0.0016410779409515642)\n",
      "('WEEKDAY_APPR_PROCESS_START_SATURDAY', 0.0014553397950281086)\n",
      "('WEEKDAY_APPR_PROCESS_START_SUNDAY', 0.0011207880974885812)\n",
      "('WEEKDAY_APPR_PROCESS_START_THURSDAY', 0.0017582438433622017)\n",
      "('WEEKDAY_APPR_PROCESS_START_TUESDAY', 0.001845234187790055)\n",
      "('WEEKDAY_APPR_PROCESS_START_WEDNESDAY', 0.0017840733479117649)\n",
      "('ORGANIZATION_TYPE_Advertising', 0.00018532875176682304)\n",
      "('ORGANIZATION_TYPE_Agriculture', 0.0006383030284823767)\n",
      "('ORGANIZATION_TYPE_Bank', 0.000258164897215641)\n",
      "('ORGANIZATION_TYPE_Business Entity Type 1', 0.0007550869823291825)\n",
      "('ORGANIZATION_TYPE_Business Entity Type 2', 0.0009475209628609978)\n",
      "('ORGANIZATION_TYPE_Business Entity Type 3', 0.001900122768390182)\n",
      "('ORGANIZATION_TYPE_Cleaning', 0.0001753505224442127)\n",
      "('ORGANIZATION_TYPE_Construction', 0.0011892174133268805)\n",
      "('ORGANIZATION_TYPE_Culture', 0.00013571144751940123)\n",
      "('ORGANIZATION_TYPE_Electricity', 0.000259049915750699)\n",
      "('ORGANIZATION_TYPE_Emergency', 0.00019245091963453377)\n",
      "('ORGANIZATION_TYPE_Government', 0.0008617823191388979)\n",
      "('ORGANIZATION_TYPE_Hotel', 0.00026031745534415245)\n",
      "('ORGANIZATION_TYPE_Housing', 0.0005969443736668485)\n",
      "('ORGANIZATION_TYPE_Industry: type 1', 0.00040505459558037133)\n",
      "('ORGANIZATION_TYPE_Industry: type 10', 4.616735456893242e-05)\n",
      "('ORGANIZATION_TYPE_Industry: type 11', 0.0005745143720663557)\n",
      "('ORGANIZATION_TYPE_Industry: type 12', 9.067001717022768e-05)\n",
      "('ORGANIZATION_TYPE_Industry: type 13', 5.149488446053647e-05)\n",
      "('ORGANIZATION_TYPE_Industry: type 2', 0.00018389197200618433)\n",
      "('ORGANIZATION_TYPE_Industry: type 3', 0.0007929123720318023)\n",
      "('ORGANIZATION_TYPE_Industry: type 4', 0.0003671749401558169)\n",
      "('ORGANIZATION_TYPE_Industry: type 5', 0.00017754991538358636)\n",
      "('ORGANIZATION_TYPE_Industry: type 6', 5.575421501681863e-05)\n",
      "('ORGANIZATION_TYPE_Industry: type 7', 0.00038675018255109815)\n",
      "('ORGANIZATION_TYPE_Industry: type 8', 1.9697872156340808e-05)\n",
      "('ORGANIZATION_TYPE_Industry: type 9', 0.0004312978319729334)\n",
      "('ORGANIZATION_TYPE_Insurance', 0.00016375689954545249)\n",
      "('ORGANIZATION_TYPE_Kindergarten', 0.0006688931044027578)\n",
      "('ORGANIZATION_TYPE_Legal Services', 0.00015793959155683006)\n",
      "('ORGANIZATION_TYPE_Medicine', 0.0007696922847935428)\n",
      "('ORGANIZATION_TYPE_Military', 0.00029919239107010874)\n",
      "('ORGANIZATION_TYPE_Mobile', 0.0001492484528189081)\n",
      "('ORGANIZATION_TYPE_Other', 0.001125607206853943)\n",
      "('ORGANIZATION_TYPE_Police', 0.0002934553516768013)\n",
      "('ORGANIZATION_TYPE_Postal', 0.0005455925402849223)\n",
      "('ORGANIZATION_TYPE_Realtor', 0.0002531859978759682)\n",
      "('ORGANIZATION_TYPE_Religion', 3.794453677371446e-05)\n",
      "('ORGANIZATION_TYPE_Restaurant', 0.0005579118295380107)\n",
      "('ORGANIZATION_TYPE_School', 0.000696337280073704)\n",
      "('ORGANIZATION_TYPE_Security', 0.0006135420638224327)\n",
      "('ORGANIZATION_TYPE_Security Ministries', 0.00024391839025625673)\n",
      "('ORGANIZATION_TYPE_Self-employed', 0.001992627540221255)\n",
      "('ORGANIZATION_TYPE_Services', 0.00031778180056230265)\n",
      "('ORGANIZATION_TYPE_Telecom', 0.00025029420889703354)\n",
      "('ORGANIZATION_TYPE_Trade: type 1', 0.00017641975266762566)\n",
      "('ORGANIZATION_TYPE_Trade: type 2', 0.00022795745659713002)\n",
      "('ORGANIZATION_TYPE_Trade: type 3', 0.0006562766141222891)\n",
      "('ORGANIZATION_TYPE_Trade: type 4', 1.6852885705464646e-05)\n",
      "('ORGANIZATION_TYPE_Trade: type 5', 2.1057428093459636e-05)\n",
      "('ORGANIZATION_TYPE_Trade: type 6', 0.00014396636032061434)\n",
      "('ORGANIZATION_TYPE_Trade: type 7', 0.000972388547742317)\n",
      "('ORGANIZATION_TYPE_Transport: type 1', 6.405389371620367e-05)\n",
      "('ORGANIZATION_TYPE_Transport: type 2', 0.00048573660762589726)\n",
      "('ORGANIZATION_TYPE_Transport: type 3', 0.0007025888850277938)\n",
      "('ORGANIZATION_TYPE_Transport: type 4', 0.0008209769957045019)\n",
      "('ORGANIZATION_TYPE_University', 0.00023182445127063777)\n",
      "('ORGANIZATION_TYPE_XNA', 0.0006007439538739928)\n",
      "('FONDKAPREMONT_MODE_not specified', 0.00041254811968605045)\n",
      "('FONDKAPREMONT_MODE_org spec account', 0.00037391149399433957)\n",
      "('FONDKAPREMONT_MODE_reg oper account', 0.0008295641039889441)\n",
      "('FONDKAPREMONT_MODE_reg oper spec account', 0.0005197580056954061)\n",
      "('HOUSETYPE_MODE_block of flats', 0.0011301149065367578)\n",
      "('HOUSETYPE_MODE_specific housing', 0.0003581906744715169)\n",
      "('HOUSETYPE_MODE_terraced house', 0.0001735941668319384)\n",
      "('WALLSMATERIAL_MODE_Block', 0.0005343970943416337)\n",
      "('WALLSMATERIAL_MODE_Mixed', 0.00032254942641059297)\n",
      "('WALLSMATERIAL_MODE_Monolithic', 0.00013918300867143423)\n",
      "('WALLSMATERIAL_MODE_Others', 0.00031076984758863184)\n",
      "('WALLSMATERIAL_MODE_Panel', 0.0008944607703740484)\n",
      "('WALLSMATERIAL_MODE_Stone, brick', 0.0009742110642045025)\n",
      "('WALLSMATERIAL_MODE_Wooden', 0.0003502643689887409)\n",
      "('EMERGENCYSTATE_MODE_No', 0.0011900842456326688)\n",
      "('EMERGENCYSTATE_MODE_Yes', 0.0003090140009504761)\n",
      "('CREDIT_INCOME_PERCENT', 0.014482696236013138)\n",
      "('ANNUITY_INCOME_PERCENT', 0.015495068560385877)\n",
      "('CREDIT_TERM', 0.014912290366368984)\n",
      "('DAYS_EMPLOYED_PERCENT', 0.01455218953012575)\n",
      "('1', 0.0)\n",
      "('EXT_SOURCE_1_y', 0.006312771919235204)\n",
      "('EXT_SOURCE_2_y', 0.012972087161085636)\n",
      "('EXT_SOURCE_3_y', 0.010227812331255132)\n",
      "('DAYS_BIRTH_y', 0.012257051032220455)\n",
      "('EXT_SOURCE_1^2', 0.006283556574111031)\n",
      "('EXT_SOURCE_1 EXT_SOURCE_2', 0.014017407564138017)\n",
      "('EXT_SOURCE_1 EXT_SOURCE_3', 0.012621429922056775)\n",
      "('EXT_SOURCE_1 DAYS_BIRTH', 0.012163521289153535)\n",
      "('EXT_SOURCE_2^2', 0.012981919910702295)\n",
      "('EXT_SOURCE_2 EXT_SOURCE_3', 0.016673883455678478)\n",
      "('EXT_SOURCE_2 DAYS_BIRTH', 0.013470426590757345)\n",
      "('EXT_SOURCE_3^2', 0.01022250499699245)\n",
      "('EXT_SOURCE_3 DAYS_BIRTH', 0.01317348121284622)\n",
      "('DAYS_BIRTH^2', 0.012240527041175177)\n",
      "('EXT_SOURCE_1^3', 0.006298413009310991)\n",
      "('EXT_SOURCE_1^2 EXT_SOURCE_2', 0.013328395336015856)\n",
      "('EXT_SOURCE_1^2 EXT_SOURCE_3', 0.011622712487361063)\n",
      "('EXT_SOURCE_1^2 DAYS_BIRTH', 0.012315215916422295)\n",
      "('EXT_SOURCE_1 EXT_SOURCE_2^2', 0.013940797335958544)\n",
      "('EXT_SOURCE_1 EXT_SOURCE_2 EXT_SOURCE_3', 0.018268671556825603)\n",
      "('EXT_SOURCE_1 EXT_SOURCE_2 DAYS_BIRTH', 0.01387665979118197)\n",
      "('EXT_SOURCE_1 EXT_SOURCE_3^2', 0.012747955982006624)\n",
      "('EXT_SOURCE_1 EXT_SOURCE_3 DAYS_BIRTH', 0.01356487544242796)\n",
      "('EXT_SOURCE_1 DAYS_BIRTH^2', 0.012114763442551198)\n",
      "('EXT_SOURCE_2^3', 0.01285921305974644)\n",
      "('EXT_SOURCE_2^2 EXT_SOURCE_3', 0.01569070061154)\n",
      "('EXT_SOURCE_2^2 DAYS_BIRTH', 0.013495459055267034)\n",
      "('EXT_SOURCE_2 EXT_SOURCE_3^2', 0.01657584635291544)\n",
      "('EXT_SOURCE_2 EXT_SOURCE_3 DAYS_BIRTH', 0.016755571264055198)\n",
      "('EXT_SOURCE_2 DAYS_BIRTH^2', 0.013053344904247385)\n",
      "('EXT_SOURCE_3^3', 0.010163504972453996)\n",
      "('EXT_SOURCE_3^2 DAYS_BIRTH', 0.013611523318606452)\n",
      "('EXT_SOURCE_3 DAYS_BIRTH^2', 0.012752139147638501)\n",
      "('DAYS_BIRTH^3', 0.012239767459504617)\n"
     ]
    }
   ],
   "source": [
    "for feature in zip(feature_list, PDK_AFS_Random_Forest.feature_importances_):\n",
    "    print(feature)"
   ]
  },
  {
   "cell_type": "code",
   "execution_count": null,
   "metadata": {},
   "outputs": [
    {
     "name": "stderr",
     "output_type": "stream",
     "text": [
      "[Parallel(n_jobs=-1)]: Done  34 tasks      | elapsed:   19.2s\n",
      "[Parallel(n_jobs=-1)]: Done 184 tasks      | elapsed:  1.5min\n",
      "[Parallel(n_jobs=-1)]: Done 434 tasks      | elapsed:  3.5min\n",
      "[Parallel(n_jobs=-1)]: Done 784 tasks      | elapsed:  6.4min\n"
     ]
    }
   ],
   "source": [
    "sfm = SelectFromModel(PDK_AFS_Random_Forest, threshold='median')\n",
    "\n",
    "sfm.fit(poly_training_data, pdk_train_labels)"
   ]
  },
  {
   "cell_type": "code",
   "execution_count": null,
   "metadata": {},
   "outputs": [],
   "source": []
  }
 ],
 "metadata": {
  "kernelspec": {
   "display_name": "Python 3",
   "language": "python",
   "name": "python3"
  },
  "language_info": {
   "codemirror_mode": {
    "name": "ipython",
    "version": 3
   },
   "file_extension": ".py",
   "mimetype": "text/x-python",
   "name": "python",
   "nbconvert_exporter": "python",
   "pygments_lexer": "ipython3",
   "version": "3.6.4"
  }
 },
 "nbformat": 4,
 "nbformat_minor": 2
}
