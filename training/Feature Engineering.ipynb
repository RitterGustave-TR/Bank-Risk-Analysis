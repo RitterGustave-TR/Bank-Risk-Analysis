{
 "cells": [
  {
   "cell_type": "code",
   "execution_count": 2,
   "metadata": {},
   "outputs": [],
   "source": [
    "# Import all dependencies\n",
    "import numpy as np\n",
    "import pandas as pd\n",
    "#In order to show all columns available\n",
    "pd.set_option('display.max_columns', 200)\n",
    "\n",
    "#Sklearn imports\n",
    "from sklearn.preprocessing import LabelEncoder\n",
    "\n",
    "#file system management\n",
    "import os\n",
    "\n",
    "#Graphing libs\n",
    "import matplotlib.pyplot as plt\n",
    "import seaborn as sns"
   ]
  },
  {
   "cell_type": "code",
   "execution_count": 3,
   "metadata": {},
   "outputs": [],
   "source": [
    "# Load in ALL dataframes\n",
    "\n",
    "apptrain = pd.read_csv('./Dataset/application_train.csv')\n",
    "apptest = pd.read_csv('./Dataset/application_test.csv')\n",
    "bureau = pd.read_csv('./Dataset/bureau.csv')\n",
    "bureau_balance = pd.read_csv('./Dataset/bureau_balance.csv')\n",
    "credit_card_balance = pd.read_csv('./Dataset/credit_card_balance.csv')\n",
    "installment_payments = pd.read_csv('./Dataset/installments_payments.csv')\n",
    "pos_cash_balance = pd.read_csv('./Dataset/POS_CASH_balance.csv')\n",
    "previous_application = pd.read_csv('./Dataset/previous_application.csv')"
   ]
  },
  {
   "cell_type": "code",
   "execution_count": null,
   "metadata": {},
   "outputs": [],
   "source": []
  },
  {
   "cell_type": "code",
   "execution_count": null,
   "metadata": {},
   "outputs": [],
   "source": []
  }
 ],
 "metadata": {
  "kernelspec": {
   "display_name": "Python 3",
   "language": "python",
   "name": "python3"
  },
  "language_info": {
   "codemirror_mode": {
    "name": "ipython",
    "version": 3
   },
   "file_extension": ".py",
   "mimetype": "text/x-python",
   "name": "python",
   "nbconvert_exporter": "python",
   "pygments_lexer": "ipython3",
   "version": "3.6.4"
  }
 },
 "nbformat": 4,
 "nbformat_minor": 2
}
